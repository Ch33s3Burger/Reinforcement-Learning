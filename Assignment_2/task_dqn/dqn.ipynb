{
 "cells": [
  {
   "cell_type": "markdown",
   "id": "bf44adc6-2ce8-47c0-8bea-fab9911f91fa",
   "metadata": {
    "deletable": false,
    "editable": false,
    "nbgrader": {
     "cell_type": "markdown",
     "checksum": "495547c987ec4e0c30264d0789a2b48d",
     "grade": false,
     "grade_id": "cell-7c26a5ddee9b19dd",
     "locked": true,
     "schema_version": 3,
     "solution": false,
     "task": false
    },
    "tags": []
   },
   "source": [
    "![DSME-logo](./images/DSME_logo.png)\n",
    "\n",
    "#  Reinforcement Learning and Learning-based Control\n",
    "\n",
    "<p style=\"font-size:12pt\";> \n",
    "<b> Prof. Dr. Sebastian Trimpe, Dr. Friedrich Solowjow </b><br>\n",
    "<b> Institute for Data Science in Mechanical Engineering (DSME) </b><br>\n",
    "<a href = \"mailto:rllbc@dsme.rwth-aachen.de\">rllbc@dsme.rwth-aachen.de</a><br>\n",
    "</p>\n",
    "\n",
    "---"
   ]
  },
  {
   "cell_type": "markdown",
   "id": "b70c929e-2052-4d50-813d-430aad6d2b55",
   "metadata": {
    "deletable": false,
    "editable": false,
    "nbgrader": {
     "cell_type": "markdown",
     "checksum": "d6a91951438678ea55214005e7d98689",
     "grade": false,
     "grade_id": "cell-c99f8e3cef2180fe",
     "locked": true,
     "schema_version": 3,
     "solution": false,
     "task": false
    },
    "tags": []
   },
   "source": [
    "DQN Implementation\n",
    "\n",
    "Orignal Paper: [Playing Atari with Deep Reinforcement Learning](https://arxiv.org/abs/1312.5602)"
   ]
  },
  {
   "cell_type": "markdown",
   "id": "3f18e8f9-22e7-44b5-a08b-8030d145fb7f",
   "metadata": {
    "deletable": false,
    "editable": false,
    "nbgrader": {
     "cell_type": "markdown",
     "checksum": "43cbfde05f8681188170dc3b733a2a71",
     "grade": false,
     "grade_id": "cell-91a7ec374507249e",
     "locked": true,
     "schema_version": 3,
     "solution": false,
     "task": false
    },
    "tags": []
   },
   "source": [
    "# DSME Bonus Point Assignment II Part DQN"
   ]
  },
  {
   "cell_type": "markdown",
   "id": "d8eda87d-32cd-4f43-9b8c-83749962d22f",
   "metadata": {
    "deletable": false,
    "editable": false,
    "nbgrader": {
     "cell_type": "markdown",
     "checksum": "22049403e05cc7a656edae0a7d80ed48",
     "grade": false,
     "grade_id": "cell-e50679829769fa5d",
     "locked": true,
     "schema_version": 3,
     "solution": false,
     "task": false
    },
    "tags": []
   },
   "source": [
    "## Library Imports"
   ]
  },
  {
   "cell_type": "code",
   "execution_count": 1,
   "id": "cd638c17-eeb3-4f0e-bf2c-3759b3d937d1",
   "metadata": {
    "deletable": false,
    "editable": false,
    "nbgrader": {
     "cell_type": "code",
     "checksum": "d0e970abc3801984613d8252dd424cda",
     "grade": false,
     "grade_id": "cell-c996649281245dca",
     "locked": true,
     "schema_version": 3,
     "solution": false,
     "task": false
    },
    "tags": []
   },
   "outputs": [],
   "source": [
    "import os\n",
    "import copy\n",
    "import time\n",
    "import random\n",
    "import warnings\n",
    "from datetime import datetime\n",
    "\n",
    "import numpy as np\n",
    "import matplotlib.pyplot as plt\n",
    "from tqdm import notebook\n",
    "from easydict import EasyDict as edict\n",
    "from IPython.display import Video, display\n",
    "\n",
    "import utils.helper_fns as hf\n",
    "\n",
    "import gym\n",
    "import wandb\n",
    "import torch\n",
    "import torch.nn as nn\n",
    "import torch.optim as optim\n",
    "from stable_baselines3.common.buffers import ReplayBuffer\n",
    "\n",
    "from typing import NamedTuple\n",
    "\n",
    "warnings.filterwarnings(\"ignore\", category=DeprecationWarning)\n",
    "\n",
    "os.environ['SDL_VIDEODRIVER'] = 'dummy'\n",
    "os.environ['WANDB_NOTEBOOK_NAME'] = 'dqn.ipynb'\n",
    "\n",
    "plt.rcParams['figure.dpi'] = 100\n",
    "device = torch.device(\"cuda\" if torch.cuda.is_available() else \"cpu\")\n",
    "\n",
    "%load_ext autoreload\n",
    "%autoreload 2"
   ]
  },
  {
   "cell_type": "markdown",
   "id": "4b724137-5265-4953-9fc6-d153babd9085",
   "metadata": {
    "deletable": false,
    "editable": false,
    "nbgrader": {
     "cell_type": "markdown",
     "checksum": "bd85425ffa6542f590ef3dfd4f39e4af",
     "grade": false,
     "grade_id": "cell-183afb6ef4c6d54b",
     "locked": true,
     "schema_version": 3,
     "solution": false,
     "task": false
    },
    "tags": []
   },
   "source": [
    "## Initializations"
   ]
  },
  {
   "cell_type": "markdown",
   "id": "3610ee99-9793-4304-a852-6790ff51d9c2",
   "metadata": {
    "deletable": false,
    "editable": false,
    "nbgrader": {
     "cell_type": "markdown",
     "checksum": "b3ccfaee7c4e437aea236af14dfc3d86",
     "grade": false,
     "grade_id": "cell-40987cc1f8ba20db",
     "locked": true,
     "schema_version": 3,
     "solution": false,
     "task": false
    },
    "tags": []
   },
   "source": [
    "### Experiment\n",
    "\n",
    "We primarily use dictionaries for initializing experiment parameters and training hyperparameters. We use the `EasyDict` (imported as `edict`) library, which allows us to access dict values as attributes while retaining the operations and properties of the original python `dict`! [[Github Link](https://github.com/makinacorpus/easydict)]\n",
    "\n",
    "In this notebook we use a few `edicts` with `exp` being one of them. It is initialized in the following cell and has keys and values containing information about the experiment being run. Although initialized in this section, we keep adding new keys and values to the dict in the later sections as well.  \n",
    "\n",
    "This notebook supports gym environments with observation space of type `gym.spaces.Box` and action space of type `gym.spaces.Discrete`. Eg: Acrobot-v1, CartPole-v1, MountainCar-v0"
   ]
  },
  {
   "cell_type": "code",
   "execution_count": 2,
   "id": "2bbf996a-df96-4626-9f8e-2a3f99a60809",
   "metadata": {
    "deletable": false,
    "editable": false,
    "nbgrader": {
     "cell_type": "code",
     "checksum": "97d2c3838be5720882e8c77a836c6365",
     "grade": false,
     "grade_id": "cell-f48a1e19f097abf0",
     "locked": true,
     "schema_version": 3,
     "solution": false,
     "task": false
    },
    "tags": []
   },
   "outputs": [],
   "source": [
    "exp = edict()\n",
    "\n",
    "exp.exp_name = 'DQN'  # algorithm name, in this case it should be 'DQN'\n",
    "exp.env_id = 'CartPole-v1'  # name of the gym environment to be used in this experiment. Eg: Acrobot-v1, CartPole-v1, MountainCar-v0\n",
    "exp.device = device.type  # save the device type used to load tensors and perform tensor operations\n",
    "\n",
    "set_random_seed = True  # set random seed for reproducibility of python, numpy and torch\n",
    "exp.seed = 2\n",
    "\n",
    "# name of the project in Weights & Biases (wandb) to which logs are patched. (only if wandb logging is enabled)\n",
    "# if the project does not exist in wandb, it will be created automatically\n",
    "wandb_prj_name = f\"RLLBC_{exp.env_id}\"\n",
    "\n",
    "# name prefix of output files generated by the notebook\n",
    "exp.run_name = f\"{exp.env_id}__{exp.exp_name}__{exp.seed}__{datetime.now().strftime('%y%m%d_%H%M%S')}\"\n",
    "\n",
    "if set_random_seed:\n",
    "    random.seed(exp.seed)\n",
    "    np.random.seed(exp.seed)\n",
    "    torch.manual_seed(exp.seed)\n",
    "    torch.backends.cudnn.deterministic = set_random_seed"
   ]
  },
  {
   "cell_type": "markdown",
   "id": "a1884987-81de-4052-aa4f-344475674dc2",
   "metadata": {
    "deletable": false,
    "editable": false,
    "nbgrader": {
     "cell_type": "markdown",
     "checksum": "96e145ce64ed9d8ab2eabb8040ecda0b",
     "grade": false,
     "grade_id": "cell-f1c3c2a4cab7a680",
     "locked": true,
     "schema_version": 3,
     "solution": false,
     "task": false
    },
    "tags": []
   },
   "source": [
    "### Agent Model Class\n",
    "\n",
    "The `Agent` class consists of two neural networks with the exact same architecture: the *Q-network* and the *target network*. Both networks are taking a state as input and evaluate to *Q-values* for every possible (discrete) action. The class provides methods to query the networks, i.e. `get_q_values` and `get_target_values`.\n",
    "\n",
    "Note that the target network will not be subject to the optimizer, meaning that only the Q-network will be modified by the optimizer through gradient steps. Instead, the target network is periodically synchronized with the Q-network by the means of the function `synchronize_networks`.\n",
    "\n",
    "The `Agent` class also provides a method to retrieve the best action for a state according to the current Q-network, that is the action with the highest Q-value."
   ]
  },
  {
   "cell_type": "code",
   "execution_count": 3,
   "id": "25337334-440e-4206-bf23-ce1208413f78",
   "metadata": {
    "deletable": false,
    "editable": false,
    "nbgrader": {
     "cell_type": "code",
     "checksum": "1a24ee3a93639703741090a308ef1624",
     "grade": false,
     "grade_id": "cell-d9f43ba0f23015de",
     "locked": true,
     "schema_version": 3,
     "solution": false,
     "task": false
    },
    "tags": []
   },
   "outputs": [],
   "source": [
    "class Agent(nn.Module):\n",
    "    def __init__(self, env):\n",
    "        super().__init__()\n",
    "        self.q_network = nn.Sequential(\n",
    "            nn.Linear(np.array(env.single_observation_space.shape).prod(), 16),\n",
    "            nn.ReLU(),\n",
    "            nn.Linear(16, 64),\n",
    "            nn.ReLU(),\n",
    "            nn.Linear(64, env.single_action_space.n),\n",
    "        )\n",
    "\n",
    "        self.target_network = copy.deepcopy(self.q_network)\n",
    "\n",
    "    def get_q_values(self, x):\n",
    "        return self.q_network(x)\n",
    "\n",
    "    def get_target_values(self, x):\n",
    "        return self.target_network(x)\n",
    "\n",
    "    def synchronize_networks(self):\n",
    "        self.target_network.load_state_dict(self.q_network.state_dict())\n",
    "\n",
    "    def get_action(self, x, greedy=True):\n",
    "        q_vals = self.get_q_values(x)\n",
    "        action = q_vals.argmax(dim=1)\n",
    "        return action"
   ]
  },
  {
   "cell_type": "markdown",
   "id": "43e9d727-726c-40fa-b2ef-df288c978c58",
   "metadata": {
    "deletable": false,
    "editable": false,
    "nbgrader": {
     "cell_type": "markdown",
     "checksum": "31d03e72136baa27e12cae9fe770aed6",
     "grade": false,
     "grade_id": "cell-edad9e49b45a7427",
     "locked": true,
     "schema_version": 3,
     "solution": false,
     "task": false
    },
    "tags": []
   },
   "source": [
    "### Training Params & Agent Hyperparams\n",
    "The second dictionary we use, `hypp`, is initialized in the following cell. It has keys and values containing the hyperparameters necessary to the algorithm.\n",
    "\n",
    "The parameters and hyperparameters in this section are broadly categorized as below:\n",
    "1. Flags for logging: \n",
    "    - They are stored in the `exp` dict. \n",
    "    - This notebook uses tensorboard logging by deafult to log experiment metrics. These tb log files are saved in the directory `logs/<exp.exp_type>/<exp.run_name>/tb`. (to learn about `exp.exp_type` refer point 3. below)\n",
    "    - To enable logging of gym videos of the agent's interaction with the env set `exp.capture_video = True`\n",
    "    - Patch tensorboard logs and gym videos to Weigths & Biases (wandb) by setting `exp.enable_wandb_logging = True`\n",
    "2. Flags and parameters to generate average performance throughout training:\n",
    "    - Stored in the `exp` dict\n",
    "    - If `exp.eval_agent = True`, the performance of the agent during it's training is saved in the corresponding logs folder. You can later used this to compare the performance of your current agent with other agents during their training (in Section 1.5.2).\n",
    "    - Every `exp.eval_frequency` episodes the trained agent is evaluated using the `env_eval` by playing out `exp.eval_count` episodes\n",
    "    - To speed up training set `exp.eval_agent = False` \n",
    "3. Create experiment hierarchy inside log folders:\n",
    "    - if `exp.exp_type` is None, experiment logs are saved to the root log directory `logs`, ie, `/logs/<exp.run_name>`, otherwise they are saved to the directory `logs/<exp.exp_type>/<exp._name>`\n",
    "4. Parameters and hyperparameters related to the algorithm:\n",
    "    - Stored in the `hypp` dict\n",
    "    - Quick reminder:  the `num_steps` key in the `hypp` dict is also a hyperparameter defined in Env & Rollout Buffer Init Section.\n",
    "\n",
    "Note: \n",
    "1. If Weigths and Biases (wandb) logging is enabled, when you run the \"Training The Agent\" cell, enter your wandb's api key when prompted. \n",
    "2. Training takes longer when either gym video recording or agent evaluation during training is enabled. To speed up training set both `exp.capture_video` and `exp.eval_agent` to `False`."
   ]
  },
  {
   "cell_type": "code",
   "execution_count": 5,
   "id": "028dde8a-1e32-4b50-a6b5-f88d22efd8d0",
   "metadata": {
    "deletable": false,
    "nbgrader": {
     "cell_type": "code",
     "checksum": "6866f73990642f1d320a3a113296137a",
     "grade": false,
     "grade_id": "cell-a02e2bc8c5b87d8a",
     "locked": false,
     "schema_version": 3,
     "solution": true,
     "task": false
    },
    "tags": []
   },
   "outputs": [],
   "source": [
    "\n",
    "hypp = edict()\n",
    "\n",
    "# flags for logging purposes\n",
    "exp.enable_wandb_logging = True\n",
    "exp.capture_video = True\n",
    "\n",
    "# flags to generate agent's average performance during training\n",
    "exp.eval_agent = True  # disable to speed up training\n",
    "exp.eval_count = 10\n",
    "exp.eval_frequency = 50\n",
    "\n",
    "# putting the run into the designated log folder for structuring\n",
    "exp.exp_type = None  # directory the run is saved to. Should be None or a string value\n",
    "\n",
    "# agent training specific parameters and hyperparameters\n",
    "hypp.total_timesteps = 1000000  # the training duration in number of time steps\n",
    "hypp.learning_rate = 3e-4  # the learning rate for the optimizer\n",
    "hypp.gamma = 0.99  # decay factor of future rewards\n",
    "hypp.buffer_size = 1000000  # the size of the replay memory buffer\n",
    "hypp.target_network_frequency = 500  # the frequency of synchronization with target network\n",
    "hypp.batch_size = 512  # number of samples taken from the replay buffer for one step\n",
    "hypp.start_e = 1  # probability of exploration (epsilon) at timestep 0\n",
    "hypp.end_e = 0.05  # minimal probability of exploration (epsilon)\n",
    "hypp.exploration_fraction = 0.3  # the fraction of total_timesteps it takes to go from start_e to end_e\n",
    "hypp.start_learning = 1000  # the timestep the learning starts (before that the replay buffer is filled)\n",
    "hypp.train_frequency = 10  # the frequency of training"
   ]
  },
  {
   "cell_type": "markdown",
   "id": "d15369a3-1e6d-4dfb-a327-c7481dd2e51e",
   "metadata": {
    "deletable": false,
    "editable": false,
    "nbgrader": {
     "cell_type": "markdown",
     "checksum": "e4a86dccc3c230f5bafd3b3b160acef7",
     "grade": false,
     "grade_id": "cell-6257c6b8c2b0f64e",
     "locked": true,
     "schema_version": 3,
     "solution": false,
     "task": false
    },
    "tags": []
   },
   "source": [
    "### Replay Buffer\n",
    "In the following cell the **replay buffer** is initialised. It is used in 2 ways:\n",
    "- It **stores transitions** the agent took in the environment in the past (i.e. (state, action, next_state, reward, done?) tuples)\n",
    "- It is possible to **sample a batch** of transitions from the replay buffer. The batch is used to perform a gradient step on for training."
   ]
  },
  {
   "cell_type": "code",
   "execution_count": 6,
   "id": "281cc056-fe48-4a5f-b36b-5eb50e659897",
   "metadata": {
    "deletable": false,
    "editable": false,
    "nbgrader": {
     "cell_type": "code",
     "checksum": "a316d78e3014bc12c9280a56b20f82c5",
     "grade": false,
     "grade_id": "cell-2ea95c579a926924",
     "locked": true,
     "schema_version": 3,
     "solution": false,
     "task": false
    },
    "tags": []
   },
   "outputs": [],
   "source": [
    "# Initialization of Replay Buffer\n",
    "\n",
    "env = gym.vector.SyncVectorEnv([hf.make_env(exp.env_id, exp.seed + i) for i in range(1)])\n",
    "\n",
    "rb = ReplayBuffer(\n",
    "    hypp.buffer_size,\n",
    "    env.single_observation_space,\n",
    "    env.single_action_space,\n",
    "    device,\n",
    ")\n",
    "\n",
    "env.close()"
   ]
  },
  {
   "cell_type": "markdown",
   "id": "49d7ba4d-39ea-4e49-bd32-bfacd8c7ee6b",
   "metadata": {
    "deletable": false,
    "editable": false,
    "nbgrader": {
     "cell_type": "markdown",
     "checksum": "70051b0079d6073037ddf9231de6d56c",
     "grade": false,
     "grade_id": "cell-3b088db5e04909e7",
     "locked": true,
     "schema_version": 3,
     "solution": false,
     "task": false
    },
    "tags": []
   },
   "source": [
    "## DQN-specific helper functions (8 Points)\n",
    "\n",
    "In the following cells there are a few functions that are used during the DQN algorithm:\n",
    "1. `linear_schedule` computes the linearly decreasing exploration rate $\\epsilon$ as a function of the timestep $t$\n",
    "2. `compute_TD_target` computes the TD-targets for a given data batch\n",
    "3. `e_greedy_policy` chooses an action according to the $\\epsilon$-greedy policy\n",
    "4. `compute_TD_target_DDQN` computes the TD-targets for a given data batch according to the DDQN formulation\n",
    "\n",
    "\n",
    "Correct the mistakes in the helper functions and implement `compute_TD_target_DDQN`."
   ]
  },
  {
   "cell_type": "code",
   "execution_count": 12,
   "id": "f360bed4-fa13-4e33-90bf-e68b4530a1e9",
   "metadata": {
    "deletable": false,
    "nbgrader": {
     "cell_type": "code",
     "checksum": "03bca7103abe9b0b3c1deda4fe222a9a",
     "grade": false,
     "grade_id": "cell-41a9afe7ea28154b",
     "locked": false,
     "schema_version": 3,
     "solution": true,
     "task": false
    },
    "tags": []
   },
   "outputs": [],
   "source": [
    "def linear_schedule(start_e: float, end_e: float, duration: int, t: int):\n",
    "    '''\n",
    "    returns the linearly decreasing exploration probability epsilon for a certain timestep\n",
    "    :param start_e: exploration probability (epsilon) at timestep 0\n",
    "    :param end_e:  minimal exploration probability (epsilon)\n",
    "    :param duration: number of timesteps after which end_e is reached\n",
    "    :param t: the current timestep\n",
    "    :return: exploration probability (epsilon) for the current timestep\n",
    "    '''\n",
    "    slope = (end_e - start_e) / duration\n",
    "    return max(slope * t + start_e, end_e)"
   ]
  },
  {
   "cell_type": "code",
   "execution_count": 8,
   "id": "3e134659-f80d-4058-9062-f8433c01041d",
   "metadata": {
    "deletable": false,
    "nbgrader": {
     "cell_type": "code",
     "checksum": "04c304a7b2d9f3480a2347c7b4a3bd5a",
     "grade": false,
     "grade_id": "cell-345647811a7761ae",
     "locked": false,
     "schema_version": 3,
     "solution": true,
     "task": false
    },
    "tags": []
   },
   "outputs": [],
   "source": [
    "def compute_TD_target(data, agent):\n",
    "    '''\n",
    "    returns the TD-targets for the given data batch.\n",
    "    :param data: batch of transitions as named tuple of tensors (observations, actions, next_observations, dones, rewards)\n",
    "    :param agent: an Agent class object\n",
    "    :return: TD-targets as tensor with shape [batch_size], where batch_size is the number of entries in data tuple\n",
    "    '''\n",
    "    with torch.no_grad():\n",
    "        target_max, _ = agent.get_q_values(data.next_observations).max(dim=1)\n",
    "        td_target = data.rewards.flatten() + hypp.gamma * target_max * (1 - data.dones.flatten())\n",
    "\n",
    "    return td_target"
   ]
  },
  {
   "cell_type": "code",
   "execution_count": 13,
   "id": "dcb3e4ae-a023-401c-bf84-9e8bc601c464",
   "metadata": {
    "deletable": false,
    "nbgrader": {
     "cell_type": "code",
     "checksum": "7736d9fb2583aa4124e06101efed1223",
     "grade": false,
     "grade_id": "cell-3cf58797202f0453",
     "locked": false,
     "schema_version": 3,
     "solution": true,
     "task": false
    },
    "tags": []
   },
   "outputs": [],
   "source": [
    "def e_greedy_policy(agent, obs, epsilon, env):\n",
    "    '''\n",
    "    returns the action following the epsilon-greedy policy.\n",
    "    :param agent: Agent class object\n",
    "    :param obs: observation of the state\n",
    "    :epsilon: probability to choose a random action\n",
    "    :env: environment agent is acting in\n",
    "    '''\n",
    "    if random.random() < epsilon:\n",
    "        action = np.array([env.single_action_space.sample()])\n",
    "    else:\n",
    "        q_values = agent.get_q_values(torch.Tensor(obs).to(device))\n",
    "        action = torch.argmax(q_values, dim=1).cpu().numpy()\n",
    "\n",
    "    return action"
   ]
  },
  {
   "cell_type": "code",
   "execution_count": 10,
   "id": "168dd438-050f-469f-98f9-bb1c2fa6f757",
   "metadata": {
    "deletable": false,
    "nbgrader": {
     "cell_type": "code",
     "checksum": "27fa7ac1ea745197f7ca569a2d9637b4",
     "grade": false,
     "grade_id": "cell-89d31add908571e6",
     "locked": false,
     "schema_version": 3,
     "solution": true,
     "task": false
    },
    "tags": []
   },
   "outputs": [],
   "source": [
    "def compute_TD_target_DDQN(data, agent):\n",
    "    '''\n",
    "    returns the TD-targets for the given data batch according to the Double-DQN (DDQN) paper.\n",
    "    :param data: batch of transitions as named tuple of tensors (observations, actions, next_observations, dones, rewards)\n",
    "    :param agent: an Agent class object\n",
    "    :return: TD-targets as tensor with shape [batch_size], where batch_size is the number of entries in data tuple\n",
    "    '''\n",
    "    # TODO: Part b)\n",
    "    # with torch.no_grad():\n",
    "    # ...\n",
    "\n",
    "    raise NotImplementedError()"
   ]
  },
  {
   "cell_type": "markdown",
   "id": "869f946a-77c2-425c-bb13-9102a708625c",
   "metadata": {
    "deletable": false,
    "editable": false,
    "nbgrader": {
     "cell_type": "markdown",
     "checksum": "714ff8a14875372e8585317c3c638a9d",
     "grade": false,
     "grade_id": "cell-0228a69605a0d9f6",
     "locked": true,
     "schema_version": 3,
     "solution": false,
     "task": false
    },
    "tags": []
   },
   "source": [
    "## Training the Agent\n",
    "\n",
    "Before we begin training the agent, we first initialize the logging (based on the respective flags in the `exp` dict), the object of the `Agent` class, and the optimizer, followed by an initial set of observations. \n",
    "\n",
    "After that follows the main training loop which consists of:\n",
    "1. **Taking a step in the environment** following the $\\epsilon$-greedy policy, i.e. take random action with probability $\\epsilon$ and optimal action according to the Q-network with probability $1-\\epsilon$.\n",
    "2. **Sampling a batch from the replay buffer** of previously experienced transitions. These are tuples of the form $(s,a,s',r,d)$=(state, action, next_state, reward, done) where done is a boolean indicating whether the environment has terminated after the transition.\n",
    "3. **Calculating the TD-targets** for each transition in the batch. Let $Q_t(s,a)$ denote the Q-value of the target network in state $s$ for action $a$, then the TD-target $T_i$ for transition $i$ of the batch is:  \n",
    "\n",
    "$$T_i =\n",
    "\\begin{cases}\n",
    "r_i + \\max_{a'}Q_t(s'_i,a') &, \\text{if } d_i = 0\\\\\n",
    "r_i &, \\text{else}\n",
    "\\end{cases}$$  \n",
    "\n",
    "4. **Setting up the loss function** as a mean squared error (MSE) between Q-values and TD-targets. Let $Q_{\\theta}(s,a)$ be the Q-value of the (parametrized) Q-network for state $s$ and action $a$, then the loss $L$ is:  \n",
    "\n",
    "$$L = \\frac{1}{n}\\sum_{i=1}^{n}(Q_{\\theta}(s_i,a_i) - T_i)^2$$\n",
    "5. **Performing gradient descent** with regard to the gradient $\\frac{\\delta}{\\delta\\theta}{L}$\n",
    "\n",
    "Note that steps 2-4 are not performed in every iteration of the main loop:\n",
    "- before actual training starts the algorithm runs a \"warm-up\" phase where it begins to fill the replay buffer (see `hypp.start_learning`)\n",
    "- training happens periodically every few steps (see `hypp.train_frequency`)\n",
    "\n",
    "Also periodically, the target network and the Q-network are synchronized. (see `hypp.target_network_frequency`)\n",
    "\n",
    "Post completion of the main training loop, we save a copy of the following in the directory `logs/<exp.exp_type>/<exp.run_name>`:\n",
    "1. `exp` and `hypp` dicts into a `.config` file \n",
    "2. `agent` (instance of `Agent` class) into a `.pt` file for later evaluation\n",
    "3. agent performance progress throughout training into a `.csv` file if `exp.eval_agent=True`\n",
    "\n",
    "Note: we have two vectorised gym environments, `env` and `env_eval` in the initalizations. `env` is used to fill the rollout buffer with trajectories and `env_eval` is used to evaluate the agent performance at different stages of training."
   ]
  },
  {
   "cell_type": "code",
   "execution_count": 11,
   "id": "c845136f-50af-4272-8443-a04f150469c7",
   "metadata": {
    "deletable": false,
    "editable": false,
    "nbgrader": {
     "cell_type": "code",
     "checksum": "146b225d7e66a6f8505daa5421ebd3fc",
     "grade": true,
     "grade_id": "cell-fad3e79477f4eb31",
     "locked": true,
     "points": 0,
     "schema_version": 3,
     "solution": false,
     "task": false
    },
    "tags": []
   },
   "outputs": [],
   "source": [
    "# Used for grading. Do not change.\n",
    "_grading_mode = False"
   ]
  },
  {
   "cell_type": "markdown",
   "id": "e114ca3f-1f37-4836-96cd-36077a90516e",
   "metadata": {
    "deletable": false,
    "editable": false,
    "nbgrader": {
     "cell_type": "markdown",
     "checksum": "1802f8cc86c83935d8d92ef2bb2eff4e",
     "grade": false,
     "grade_id": "cell-c4feff206050350d",
     "locked": true,
     "schema_version": 3,
     "solution": false,
     "task": false
    },
    "tags": []
   },
   "source": [
    "### Training Loop\n",
    "Find the mistake in the training code in the parts you are allowed to edit."
   ]
  },
  {
   "cell_type": "code",
   "execution_count": null,
   "id": "6b5677bd-2ddd-4195-8873-e7a356e469ae",
   "metadata": {
    "deletable": false,
    "nbgrader": {
     "cell_type": "code",
     "checksum": "5aef5d04cc83cd6ff72f173232b46219",
     "grade": false,
     "grade_id": "cell-45e61a9db12b18a9",
     "locked": false,
     "schema_version": 3,
     "solution": true,
     "task": false
    },
    "tags": []
   },
   "outputs": [],
   "source": [
    "def train():\n",
    "    # ------------------ RUN INIT - DO NOT EDIT ---------------------- #\n",
    "    if _grading_mode: #DO NOT EDIT\n",
    "        return #DO NOT EDIT\n",
    "    # reinit run_name\n",
    "    exp.run_name = f\"{exp.env_id}__{exp.exp_name}__{exp.seed}__{datetime.now().strftime('%y%m%d_%H%M%S')}\"\n",
    "\n",
    "    # Init tensorboard logging and wandb logging\n",
    "    writer = hf.setup_logging(wandb_prj_name, exp, hypp)\n",
    "\n",
    "    # create two vectorized envs: one to fill the rollout buffer with trajectories and\n",
    "    # another one to evaluate the agent performance at different stages of training\n",
    "    env = gym.vector.SyncVectorEnv([hf.make_env(exp.env_id, exp.seed)])\n",
    "    env_eval = gym.vector.SyncVectorEnv([hf.make_env(exp.env_id, exp.seed + i) for i in range(1)])\n",
    "\n",
    "    # init list to track agent's performance throughout training\n",
    "    tracked_returns_over_training = []\n",
    "    tracked_episode_len_over_training = []\n",
    "    tracked_episode_count = []\n",
    "    last_evaluated_episode = None  # stores the episode_step of when the agent's performance was last evaluated\n",
    "    eval_max_return = -float('inf')\n",
    "\n",
    "    # Create Agent class Instance and network optimizer\n",
    "    agent = Agent(env).to(device)\n",
    "    optimizer = optim.Adam(agent.q_network.parameters(), lr=hypp.learning_rate)\n",
    "\n",
    "    global_step = 0\n",
    "    episode_step = 0\n",
    "    gradient_step = 0\n",
    "\n",
    "    # Init observation to start learning\n",
    "    start_time = time.time()\n",
    "    obs = env.reset()\n",
    "\n",
    "    pbar = notebook.tqdm(range(1, hypp.total_timesteps + 1))\n",
    "    # ------------------------- END RUN INIT --------------------------- #\n",
    "\n",
    "    # training loop\n",
    "    for update in pbar:\n",
    "\n",
    "        epsilon = linear_schedule(hypp.start_e, hypp.end_e, hypp.exploration_fraction * hypp.total_timesteps, global_step)\n",
    "        action = e_greedy_policy(agent, obs, epsilon, env)\n",
    "\n",
    "        # apply action to environment\n",
    "        next_obs, reward, done, infos = env.step(action)\n",
    "        global_step += 1\n",
    "\n",
    "        # log episode return and length to tensorboard as well as current epsilon\n",
    "        for info in infos:\n",
    "            if \"episode\" in info.keys():\n",
    "                episode_step += 1\n",
    "                pbar.set_description(f\"global_step: {global_step}, episodic_return={info['episode']['r']}\")\n",
    "                writer.add_scalar(\"rollout/episodic_return\", info[\"episode\"][\"r\"], global_step)\n",
    "                writer.add_scalar(\"rollout/episodic_length\", info[\"episode\"][\"l\"], global_step)\n",
    "                writer.add_scalar(\"hyperparameters/epsilon\", epsilon, global_step)\n",
    "                writer.add_scalar(\"Charts/episode_step\", episode_step, global_step)\n",
    "                writer.add_scalar(\"Charts/gradient_step\", gradient_step, global_step)\n",
    "                break\n",
    "        # ------------------ EVALUATION: DO NOT EDIT ---------------------- #\n",
    "        # evaluation of the agent\n",
    "        if exp.eval_agent and (episode_step % exp.eval_frequency == 0) and last_evaluated_episode != episode_step:\n",
    "            last_evaluated_episode = episode_step\n",
    "            tracked_return, tracked_episode_len = hf.evaluate_agent(env_eval, agent, exp.eval_count,\n",
    "                                                                    exp.seed, greedy_actor=True)\n",
    "            tracked_returns_over_training.append(tracked_return)\n",
    "            tracked_episode_len_over_training.append(tracked_episode_len)\n",
    "            tracked_episode_count.append([episode_step, global_step])\n",
    "\n",
    "            # if there has been improvement of the model - save model, create video, log video to wandb\n",
    "            if np.mean(tracked_return) > eval_max_return:\n",
    "                eval_max_return = np.mean(tracked_return)\n",
    "                # call helper function save_and_log_agent to save model, create video, log video to wandb\n",
    "                hf.save_and_log_agent(exp, agent, episode_step,\n",
    "                                      greedy=True, print_path=False)\n",
    "        # ----------------------- END EVALUATION ------------------------- #\n",
    "        # handling the terminal observation (vectorized env would skip terminal state)\n",
    "        real_next_obs = next_obs.copy()\n",
    "        for idx, d in enumerate(done):\n",
    "            if d:\n",
    "                real_next_obs[idx] = infos[idx][\"terminal_observation\"]\n",
    "\n",
    "        # add data to replay buffer\n",
    "        rb.add(obs, real_next_obs, action, reward, done, infos)\n",
    "\n",
    "        # update obs\n",
    "        obs = next_obs\n",
    "\n",
    "        # training of the agent\n",
    "        if global_step > hypp.start_learning:\n",
    "            if global_step % hypp.train_frequency == 0:\n",
    "                data = rb.sample(hypp.batch_size)\n",
    "                #Change to DDQN if implemented\n",
    "                #td_target = compute_TD_target_DDQN(data, agent)\n",
    "                td_target = compute_TD_target(data, agent)\n",
    "\n",
    "                # calculate MSE loss between target and value\n",
    "                old_val = agent.get_q_values(data.observations).gather(1, data.actions).squeeze()\n",
    "\n",
    "                loss = ((td_target - old_val)).mean()\n",
    "\n",
    "                # log td_loss and q_values to tensorboard\n",
    "                if global_step % 100 == 0:\n",
    "                    writer.add_scalar(\"train/td_loss\", loss, global_step)\n",
    "                    writer.add_scalar(\"train/q_values\", old_val.mean().item(), global_step)\n",
    "                    writer.add_scalar(\"others/SPS\", int(global_step / (time.time() - start_time)), global_step)\n",
    "                    writer.add_scalar(\"Charts/episode_step\", episode_step, global_step)\n",
    "                    writer.add_scalar(\"Charts/gradient_step\", gradient_step, global_step)\n",
    "\n",
    "                # optimize the model\n",
    "                optimizer.zero_grad()\n",
    "                loss.backward()\n",
    "                optimizer.step()\n",
    "                gradient_step += 1\n",
    "\n",
    "            # update the target network\n",
    "            if global_step % hypp.target_network_frequency == 0:\n",
    "                agent.synchronize_networks()\n",
    "\n",
    "\n",
    "    # ------------------ EVALUATION: DO NOT EDIT ---------------------- #\n",
    "    # one last evaluation stage\n",
    "    if exp.eval_agent:\n",
    "        tracked_return, tracked_episode_len = hf.evaluate_agent(env_eval, agent, exp.eval_count, exp.seed, greedy_actor = True)\n",
    "        tracked_returns_over_training.append(tracked_return)\n",
    "        tracked_episode_len_over_training.append(tracked_episode_len)\n",
    "        tracked_episode_count.append([episode_step, global_step])\n",
    "\n",
    "        # if there has been improvement of the model - save model, create video, log video to wandb\n",
    "        if np.mean(tracked_return) > eval_max_return:\n",
    "            eval_max_return = np.mean(tracked_return)\n",
    "            # call helper function save_and_log_agent to save model, create video, log video to wandb\n",
    "            hf.save_and_log_agent(exp, agent, episode_step,\n",
    "                                  greedy=True, print_path=False)\n",
    "\n",
    "        hf.save_tracked_values(tracked_returns_over_training, tracked_episode_len_over_training, tracked_episode_count, exp.eval_count, exp.run_name)    \n",
    "    # ----------------------- END EVALUATION ------------------------- #\n",
    "\n",
    "    # ---------------- CLEANING UP/SAVING - DO NOT EDIT -------------- #\n",
    "    env.close()\n",
    "    writer.close()\n",
    "    pbar.close()\n",
    "    if wandb.run is not None:\n",
    "        wandb.finish(quiet=True)\n",
    "        wandb.init(mode= 'disabled')\n",
    "\n",
    "    hf.save_train_config_to_yaml(exp, hypp)\n",
    "    # ------------------- END CLEANING UP/SAVING --------------------- #\n",
    "train()"
   ]
  },
  {
   "cell_type": "markdown",
   "id": "d345740c-dd55-494f-ab91-2e0921728cc2",
   "metadata": {
    "deletable": false,
    "editable": false,
    "nbgrader": {
     "cell_type": "markdown",
     "checksum": "c40291d2abded2bf67813abaf681760c",
     "grade": false,
     "grade_id": "cell-8e1d3fc4092610a4",
     "locked": true,
     "schema_version": 3,
     "solution": false,
     "task": false
    },
    "tags": []
   },
   "source": [
    "# Your Final Agent (2 Points)"
   ]
  },
  {
   "cell_type": "markdown",
   "id": "2ea525c2-81c8-476a-8dac-923e2b5f9a10",
   "metadata": {
    "deletable": false,
    "editable": false,
    "nbgrader": {
     "cell_type": "markdown",
     "checksum": "702e8763217082de99cfd4c63fd80936",
     "grade": false,
     "grade_id": "cell-c7f5cbdf6841fba0",
     "locked": true,
     "schema_version": 3,
     "solution": false,
     "task": false
    },
    "tags": []
   },
   "source": [
    "We assume that the agent you want to submit is stored at `logs/<agent_name_final>/agent_model.pt`.\n",
    "Please write down the name of the final agent you wish to submit.\n",
    "If the agent file is not located at this path, you will not receive points for the performance of your agent—only for the mistakes you have fixed."
   ]
  },
  {
   "cell_type": "code",
   "execution_count": null,
   "id": "aeb5f544-3af1-4956-9f36-c240b1882786",
   "metadata": {
    "deletable": false,
    "nbgrader": {
     "cell_type": "code",
     "checksum": "4113e24936c9e15bb96624639edf47a3",
     "grade": false,
     "grade_id": "cell-9cba1cae207ec65b",
     "locked": false,
     "schema_version": 3,
     "solution": true,
     "task": false
    },
    "tags": []
   },
   "outputs": [],
   "source": [
    "agent_name_final = \"CartPole-v1__DQN__2__250602_153051\" #Change this to the name of the final agent you want to submit\n",
    "agent_final = hf.load_model(run_name=agent_name_final)\n",
    "env_eval = gym.vector.SyncVectorEnv([hf.make_env(exp.env_id, exp.seed + i) for i in range(1)])\n",
    "tracked_return, tracked_episode_len = hf.evaluate_agent(env_eval, agent_final, 10, exp.seed, greedy_actor = True)\n",
    "mean_reward = np.mean(tracked_return)\n",
    "print(f\"Your final submitted return: {mean_reward}\")"
   ]
  },
  {
   "cell_type": "code",
   "execution_count": null,
   "id": "6a89c7a6-7896-4cc8-90cb-92217c4170d9",
   "metadata": {
    "deletable": false,
    "editable": false,
    "nbgrader": {
     "cell_type": "code",
     "checksum": "d8a6dc705e0b5ab5af657d5bcd09e8a5",
     "grade": true,
     "grade_id": "cell-89ad9b819479ac6a",
     "locked": true,
     "points": 1,
     "schema_version": 3,
     "solution": false,
     "task": false
    },
    "tags": []
   },
   "outputs": [],
   "source": [
    "# Used for grading. Do not change."
   ]
  },
  {
   "cell_type": "code",
   "execution_count": null,
   "id": "463f85e3-f252-4d48-b853-296bd0135759",
   "metadata": {
    "deletable": false,
    "editable": false,
    "nbgrader": {
     "cell_type": "code",
     "checksum": "7946cb4f506bd30fb459b337fdff82a2",
     "grade": true,
     "grade_id": "cell-1fb441c16e7116d9",
     "locked": true,
     "points": 1,
     "schema_version": 3,
     "solution": false,
     "task": false
    },
    "tags": []
   },
   "outputs": [],
   "source": [
    "# Used for grading. Do not change."
   ]
  },
  {
   "cell_type": "markdown",
   "id": "f91f6290-99a7-4cff-8cfd-2810e1b4b876",
   "metadata": {
    "deletable": false,
    "editable": false,
    "nbgrader": {
     "cell_type": "markdown",
     "checksum": "ebe7eb5c84f06352acb58fbd7a50d947",
     "grade": false,
     "grade_id": "cell-8d19bbb12f473938",
     "locked": true,
     "schema_version": 3,
     "solution": false,
     "task": false
    },
    "tags": []
   },
   "source": [
    "## Compare Trained Agents and Display Behaviour"
   ]
  },
  {
   "cell_type": "markdown",
   "id": "41a1cbd9-ee5e-44e7-b155-62beb27e7cfc",
   "metadata": {
    "deletable": false,
    "editable": false,
    "nbgrader": {
     "cell_type": "markdown",
     "checksum": "61ca981444028c685a6f4715ec8888d0",
     "grade": false,
     "grade_id": "cell-afb8e6dab7009e44",
     "locked": true,
     "schema_version": 3,
     "solution": false,
     "task": false
    },
    "tags": []
   },
   "source": [
    "### Display Trained Agent Behaviour\n",
    "\n",
    "Set `agent_name` and `agent_exp_type` to load the saved agent model in the respective log folder and generate a video of the agent's interaction with the gym environment. After the cell is executed, you should see a video embedding as output, and the video is also available in the following directory: `/logs/<exp.exp_type>/<exp.run_name>/videos` "
   ]
  },
  {
   "cell_type": "code",
   "execution_count": null,
   "id": "6d9be00b-1126-41de-bce8-e217ddd76572",
   "metadata": {
    "deletable": false,
    "nbgrader": {
     "cell_type": "code",
     "checksum": "cc70c943a32d8ee85ee08136ddd1669a",
     "grade": false,
     "grade_id": "cell-d72e8e47a49ad03c",
     "locked": false,
     "schema_version": 3,
     "solution": true,
     "task": false
    },
    "tags": []
   },
   "outputs": [],
   "source": [
    "if not _grading_mode: #DO NOT EDIT\n",
    "    #-------------From here you can edit-------------\n",
    "    agent_name = exp.run_name\n",
    "    agent_exp_type = exp.exp_type  # both are needed to identify the agent location\n",
    "\n",
    "\n",
    "    exp_folder = \"\" if agent_exp_type is None else agent_exp_type\n",
    "    filepath, _ = hf.create_folder_relative(f\"{exp_folder}/{agent_name}/videos\")\n",
    "\n",
    "    hf.record_video(exp.env_id, agent_name, f\"{filepath}/best.mp4\", exp_type=agent_exp_type, greedy=True)\n",
    "    display(Video(data=f\"{filepath}/best.mp4\", html_attributes='loop autoplay', embed=True))"
   ]
  },
  {
   "cell_type": "markdown",
   "id": "3df28e41-209f-4e09-a012-f34419d35f95",
   "metadata": {
    "deletable": false,
    "editable": false,
    "nbgrader": {
     "cell_type": "markdown",
     "checksum": "37cb50d4e635667d2a1bd1a75ec22364",
     "grade": false,
     "grade_id": "cell-ab4b90b0e7b6f5b2",
     "locked": true,
     "schema_version": 3,
     "solution": false,
     "task": false
    },
    "tags": []
   },
   "source": [
    "### Compare Performance of Agents During Training\n",
    "\n",
    "During the training loop, if `exp.eval_agent = True`, the performance progress of the agent during its training is saved as a csv file. To compare the saved progress of different agents, create a `dict` containing the parent folder's name of each of the csv files and use the helper function `plotter_agents_training_stats`.\n",
    "\n",
    "To load the data, you can either set `eval_params.run_name00 = exp.run_name` (if only a `tracked_performance_training.csv` file for the corresponding `exp.run_name` exists) or manually enter the folder name containing the csv file. \n",
    "\n",
    "If the agent performance you want to load is inside an exp_type folder, set `eval_params.exp_type00` to experiment type, and if not, set it to `None`. \n",
    "\n",
    "You can add more than one experiment by initializing dict keys and values of the format `eval_params.run_namexx` and `eval_params.exp_typexx`."
   ]
  },
  {
   "cell_type": "code",
   "execution_count": null,
   "id": "7f19d07a-c44a-4808-b8c9-6ed70d62d840",
   "metadata": {
    "deletable": false,
    "nbgrader": {
     "cell_type": "code",
     "checksum": "0e3f46a611cbac6f9cc83cc30c881927",
     "grade": false,
     "grade_id": "cell-a68c66988fe6e982",
     "locked": false,
     "schema_version": 3,
     "solution": true,
     "task": false
    },
    "tags": []
   },
   "outputs": [],
   "source": [
    "if not _grading_mode: #DO NOT EDIT\n",
    "    #-------------From here you can edit-------------\n",
    "    eval_params = edict()  # eval_params - evaluation settings for trained agent\n",
    "\n",
    "    eval_params.run_name00 = exp.run_name\n",
    "    eval_params.exp_type00 = exp.exp_type\n",
    "\n",
    "    agent_labels = []\n",
    "\n",
    "    episode_axis_limit = None\n",
    "\n",
    "    hf.plotter_agents_training_stats(eval_params, agent_labels, episode_axis_limit, plot_returns=True, plot_episode_len=True)"
   ]
  },
  {
   "cell_type": "markdown",
   "id": "b3c375c3-dfd9-4269-92fb-7cf566d76530",
   "metadata": {
    "deletable": false,
    "editable": false,
    "nbgrader": {
     "cell_type": "markdown",
     "checksum": "a2984d095d6727b595726792210b66cc",
     "grade": false,
     "grade_id": "cell-772db46094a57e8d",
     "locked": true,
     "schema_version": 3,
     "solution": false,
     "task": false
    },
    "tags": []
   },
   "source": [
    "## TensorBoard Inline"
   ]
  },
  {
   "cell_type": "code",
   "execution_count": null,
   "id": "9d890e4c-b681-4cd7-bdbd-8a27971588a8",
   "metadata": {
    "deletable": false,
    "editable": false,
    "nbgrader": {
     "cell_type": "code",
     "checksum": "537d0ae4d257e7e991ab355f01bdafc1",
     "grade": false,
     "grade_id": "cell-76b96085fb0be515",
     "locked": true,
     "schema_version": 3,
     "solution": false,
     "task": false
    },
    "tags": []
   },
   "outputs": [],
   "source": [
    "if not _grading_mode: #DO NOT EDIT\n",
    "    #-------------From here you can edit-------------\n",
    "    %load_ext tensorboard\n",
    "    %tensorboard --logdir logs --host localhost"
   ]
  },
  {
   "cell_type": "code",
   "execution_count": null,
   "id": "6e67ec2b-4906-48b0-a296-08921d45953b",
   "metadata": {
    "deletable": false,
    "editable": false,
    "nbgrader": {
     "cell_type": "code",
     "checksum": "a52dabbe4dac33879c5c13ae4adca302",
     "grade": true,
     "grade_id": "cell-95326a8619429c86",
     "locked": true,
     "points": 2,
     "schema_version": 3,
     "solution": false,
     "task": false
    },
    "tags": []
   },
   "outputs": [],
   "source": [
    "# Used for grading. Do not change."
   ]
  },
  {
   "cell_type": "code",
   "execution_count": null,
   "id": "c72f8dbd-c8d6-4390-88ea-d5fe7f68c73a",
   "metadata": {
    "deletable": false,
    "editable": false,
    "nbgrader": {
     "cell_type": "code",
     "checksum": "b04201fbc6a91cfc58b7d6cdce72ee07",
     "grade": true,
     "grade_id": "cell-099f9b2c2c6894d1",
     "locked": true,
     "points": 2,
     "schema_version": 3,
     "solution": false,
     "task": false
    },
    "tags": []
   },
   "outputs": [],
   "source": [
    "# Used for grading. Do not change."
   ]
  },
  {
   "cell_type": "code",
   "execution_count": null,
   "id": "03900562-32e4-485a-9f8f-9fcee507744b",
   "metadata": {
    "deletable": false,
    "editable": false,
    "nbgrader": {
     "cell_type": "code",
     "checksum": "0767bdc3311ceaa1e7fed64f68802fb4",
     "grade": true,
     "grade_id": "cell-009bf687c08160a0",
     "locked": true,
     "points": 2,
     "schema_version": 3,
     "solution": false,
     "task": false
    },
    "tags": []
   },
   "outputs": [],
   "source": [
    "# Used for grading. Do not change."
   ]
  },
  {
   "cell_type": "code",
   "execution_count": null,
   "id": "29f57cac-0826-418c-9cb9-ae5f4a80404b",
   "metadata": {
    "deletable": false,
    "editable": false,
    "nbgrader": {
     "cell_type": "code",
     "checksum": "276a5a7d4c41eb87f2b51e6d92c5f47f",
     "grade": true,
     "grade_id": "cell-f5c757049f19f32e",
     "locked": true,
     "points": 2,
     "schema_version": 3,
     "solution": false,
     "task": false
    },
    "tags": []
   },
   "outputs": [],
   "source": [
    "# Used for grading. Do not change."
   ]
  }
 ],
 "metadata": {
  "kernelspec": {
   "display_name": "Python 3 (ipykernel)",
   "language": "python",
   "name": "python3"
  },
  "language_info": {
   "codemirror_mode": {
    "name": "ipython",
    "version": 3
   },
   "file_extension": ".py",
   "mimetype": "text/x-python",
   "name": "python",
   "nbconvert_exporter": "python",
   "pygments_lexer": "ipython3",
   "version": "3.11.11"
  }
 },
 "nbformat": 4,
 "nbformat_minor": 5
}
