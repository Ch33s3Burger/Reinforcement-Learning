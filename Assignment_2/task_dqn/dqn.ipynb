{
 "cells": [
  {
   "cell_type": "markdown",
   "id": "bf44adc6-2ce8-47c0-8bea-fab9911f91fa",
   "metadata": {
    "deletable": false,
    "editable": false,
    "nbgrader": {
     "cell_type": "markdown",
     "checksum": "495547c987ec4e0c30264d0789a2b48d",
     "grade": false,
     "grade_id": "cell-7c26a5ddee9b19dd",
     "locked": true,
     "schema_version": 3,
     "solution": false,
     "task": false
    },
    "tags": []
   },
   "source": [
    "![DSME-logo](./images/DSME_logo.png)\n",
    "\n",
    "#  Reinforcement Learning and Learning-based Control\n",
    "\n",
    "<p style=\"font-size:12pt\";> \n",
    "<b> Prof. Dr. Sebastian Trimpe, Dr. Friedrich Solowjow </b><br>\n",
    "<b> Institute for Data Science in Mechanical Engineering (DSME) </b><br>\n",
    "<a href = \"mailto:rllbc@dsme.rwth-aachen.de\">rllbc@dsme.rwth-aachen.de</a><br>\n",
    "</p>\n",
    "\n",
    "---"
   ]
  },
  {
   "cell_type": "markdown",
   "id": "b70c929e-2052-4d50-813d-430aad6d2b55",
   "metadata": {
    "deletable": false,
    "editable": false,
    "nbgrader": {
     "cell_type": "markdown",
     "checksum": "d6a91951438678ea55214005e7d98689",
     "grade": false,
     "grade_id": "cell-c99f8e3cef2180fe",
     "locked": true,
     "schema_version": 3,
     "solution": false,
     "task": false
    },
    "tags": []
   },
   "source": [
    "DQN Implementation\n",
    "\n",
    "Orignal Paper: [Playing Atari with Deep Reinforcement Learning](https://arxiv.org/abs/1312.5602)"
   ]
  },
  {
   "cell_type": "markdown",
   "id": "3f18e8f9-22e7-44b5-a08b-8030d145fb7f",
   "metadata": {
    "deletable": false,
    "editable": false,
    "nbgrader": {
     "cell_type": "markdown",
     "checksum": "43cbfde05f8681188170dc3b733a2a71",
     "grade": false,
     "grade_id": "cell-91a7ec374507249e",
     "locked": true,
     "schema_version": 3,
     "solution": false,
     "task": false
    },
    "tags": []
   },
   "source": [
    "# DSME Bonus Point Assignment II Part DQN"
   ]
  },
  {
   "cell_type": "markdown",
   "id": "d8eda87d-32cd-4f43-9b8c-83749962d22f",
   "metadata": {
    "deletable": false,
    "editable": false,
    "nbgrader": {
     "cell_type": "markdown",
     "checksum": "22049403e05cc7a656edae0a7d80ed48",
     "grade": false,
     "grade_id": "cell-e50679829769fa5d",
     "locked": true,
     "schema_version": 3,
     "solution": false,
     "task": false
    },
    "tags": []
   },
   "source": [
    "## Library Imports"
   ]
  },
  {
   "cell_type": "code",
   "execution_count": 2,
   "id": "cd638c17-eeb3-4f0e-bf2c-3759b3d937d1",
   "metadata": {
    "deletable": false,
    "editable": false,
    "nbgrader": {
     "cell_type": "code",
     "checksum": "d0e970abc3801984613d8252dd424cda",
     "grade": false,
     "grade_id": "cell-c996649281245dca",
     "locked": true,
     "schema_version": 3,
     "solution": false,
     "task": false
    },
    "tags": []
   },
   "outputs": [],
   "source": [
    "import os\n",
    "import copy\n",
    "import time\n",
    "import random\n",
    "import warnings\n",
    "from datetime import datetime\n",
    "\n",
    "import numpy as np\n",
    "import matplotlib.pyplot as plt\n",
    "from tqdm import notebook\n",
    "from easydict import EasyDict as edict\n",
    "from IPython.display import Video, display\n",
    "\n",
    "import utils.helper_fns as hf\n",
    "\n",
    "import gym\n",
    "import wandb\n",
    "import torch\n",
    "import torch.nn as nn\n",
    "import torch.optim as optim\n",
    "from stable_baselines3.common.buffers import ReplayBuffer\n",
    "\n",
    "from typing import NamedTuple\n",
    "\n",
    "warnings.filterwarnings(\"ignore\", category=DeprecationWarning)\n",
    "\n",
    "os.environ['SDL_VIDEODRIVER'] = 'dummy'\n",
    "os.environ['WANDB_NOTEBOOK_NAME'] = 'dqn.ipynb'\n",
    "\n",
    "plt.rcParams['figure.dpi'] = 100\n",
    "device = torch.device(\"cuda\" if torch.cuda.is_available() else \"cpu\")\n",
    "\n",
    "%load_ext autoreload\n",
    "%autoreload 2"
   ]
  },
  {
   "cell_type": "markdown",
   "id": "4b724137-5265-4953-9fc6-d153babd9085",
   "metadata": {
    "deletable": false,
    "editable": false,
    "nbgrader": {
     "cell_type": "markdown",
     "checksum": "bd85425ffa6542f590ef3dfd4f39e4af",
     "grade": false,
     "grade_id": "cell-183afb6ef4c6d54b",
     "locked": true,
     "schema_version": 3,
     "solution": false,
     "task": false
    },
    "tags": []
   },
   "source": [
    "## Initializations"
   ]
  },
  {
   "cell_type": "markdown",
   "id": "3610ee99-9793-4304-a852-6790ff51d9c2",
   "metadata": {
    "deletable": false,
    "editable": false,
    "nbgrader": {
     "cell_type": "markdown",
     "checksum": "b3ccfaee7c4e437aea236af14dfc3d86",
     "grade": false,
     "grade_id": "cell-40987cc1f8ba20db",
     "locked": true,
     "schema_version": 3,
     "solution": false,
     "task": false
    },
    "tags": []
   },
   "source": [
    "### Experiment\n",
    "\n",
    "We primarily use dictionaries for initializing experiment parameters and training hyperparameters. We use the `EasyDict` (imported as `edict`) library, which allows us to access dict values as attributes while retaining the operations and properties of the original python `dict`! [[Github Link](https://github.com/makinacorpus/easydict)]\n",
    "\n",
    "In this notebook we use a few `edicts` with `exp` being one of them. It is initialized in the following cell and has keys and values containing information about the experiment being run. Although initialized in this section, we keep adding new keys and values to the dict in the later sections as well.  \n",
    "\n",
    "This notebook supports gym environments with observation space of type `gym.spaces.Box` and action space of type `gym.spaces.Discrete`. Eg: Acrobot-v1, CartPole-v1, MountainCar-v0"
   ]
  },
  {
   "cell_type": "code",
   "execution_count": 11,
   "id": "2bbf996a-df96-4626-9f8e-2a3f99a60809",
   "metadata": {
    "deletable": false,
    "editable": false,
    "nbgrader": {
     "cell_type": "code",
     "checksum": "97d2c3838be5720882e8c77a836c6365",
     "grade": false,
     "grade_id": "cell-f48a1e19f097abf0",
     "locked": true,
     "schema_version": 3,
     "solution": false,
     "task": false
    },
    "tags": []
   },
   "outputs": [],
   "source": [
    "exp = edict()\n",
    "\n",
    "exp.exp_name = 'DQN'  # algorithm name, in this case it should be 'DQN'\n",
    "exp.env_id = 'CartPole-v1'  # name of the gym environment to be used in this experiment. Eg: Acrobot-v1, CartPole-v1, MountainCar-v0\n",
    "exp.device = device.type  # save the device type used to load tensors and perform tensor operations\n",
    "\n",
    "set_random_seed = True  # set random seed for reproducibility of python, numpy and torch\n",
    "exp.seed = 2\n",
    "\n",
    "# name of the project in Weights & Biases (wandb) to which logs are patched. (only if wandb logging is enabled)\n",
    "# if the project does not exist in wandb, it will be created automatically\n",
    "wandb_prj_name = f\"RLLBC_{exp.env_id}\"\n",
    "\n",
    "# name prefix of output files generated by the notebook\n",
    "exp.run_name = f\"{exp.env_id}__{exp.exp_name}__{exp.seed}__{datetime.now().strftime('%y%m%d_%H%M%S')}\"\n",
    "\n",
    "if set_random_seed:\n",
    "    random.seed(exp.seed)\n",
    "    np.random.seed(exp.seed)\n",
    "    torch.manual_seed(exp.seed)\n",
    "    torch.backends.cudnn.deterministic = set_random_seed"
   ]
  },
  {
   "cell_type": "markdown",
   "id": "a1884987-81de-4052-aa4f-344475674dc2",
   "metadata": {
    "deletable": false,
    "editable": false,
    "nbgrader": {
     "cell_type": "markdown",
     "checksum": "96e145ce64ed9d8ab2eabb8040ecda0b",
     "grade": false,
     "grade_id": "cell-f1c3c2a4cab7a680",
     "locked": true,
     "schema_version": 3,
     "solution": false,
     "task": false
    },
    "tags": []
   },
   "source": [
    "### Agent Model Class\n",
    "\n",
    "The `Agent` class consists of two neural networks with the exact same architecture: the *Q-network* and the *target network*. Both networks are taking a state as input and evaluate to *Q-values* for every possible (discrete) action. The class provides methods to query the networks, i.e. `get_q_values` and `get_target_values`.\n",
    "\n",
    "Note that the target network will not be subject to the optimizer, meaning that only the Q-network will be modified by the optimizer through gradient steps. Instead, the target network is periodically synchronized with the Q-network by the means of the function `synchronize_networks`.\n",
    "\n",
    "The `Agent` class also provides a method to retrieve the best action for a state according to the current Q-network, that is the action with the highest Q-value."
   ]
  },
  {
   "cell_type": "code",
   "execution_count": 12,
   "id": "25337334-440e-4206-bf23-ce1208413f78",
   "metadata": {
    "deletable": false,
    "editable": false,
    "nbgrader": {
     "cell_type": "code",
     "checksum": "1a24ee3a93639703741090a308ef1624",
     "grade": false,
     "grade_id": "cell-d9f43ba0f23015de",
     "locked": true,
     "schema_version": 3,
     "solution": false,
     "task": false
    },
    "tags": []
   },
   "outputs": [],
   "source": [
    "class Agent(nn.Module):\n",
    "    def __init__(self, env):\n",
    "        super().__init__()\n",
    "        self.q_network = nn.Sequential(\n",
    "            nn.Linear(np.array(env.single_observation_space.shape).prod(), 16),\n",
    "            nn.ReLU(),\n",
    "            nn.Linear(16, 64),\n",
    "            nn.ReLU(),\n",
    "            nn.Linear(64, env.single_action_space.n),\n",
    "        )\n",
    "\n",
    "        self.target_network = copy.deepcopy(self.q_network)\n",
    "\n",
    "    def get_q_values(self, x):\n",
    "        return self.q_network(x)\n",
    "\n",
    "    def get_target_values(self, x):\n",
    "        return self.target_network(x)\n",
    "\n",
    "    def synchronize_networks(self):\n",
    "        self.target_network.load_state_dict(self.q_network.state_dict())\n",
    "\n",
    "    def get_action(self, x, greedy=True):\n",
    "        q_vals = self.get_q_values(x)\n",
    "        action = q_vals.argmax(dim=1)\n",
    "        return action"
   ]
  },
  {
   "cell_type": "markdown",
   "id": "43e9d727-726c-40fa-b2ef-df288c978c58",
   "metadata": {
    "deletable": false,
    "editable": false,
    "nbgrader": {
     "cell_type": "markdown",
     "checksum": "31d03e72136baa27e12cae9fe770aed6",
     "grade": false,
     "grade_id": "cell-edad9e49b45a7427",
     "locked": true,
     "schema_version": 3,
     "solution": false,
     "task": false
    },
    "tags": []
   },
   "source": [
    "### Training Params & Agent Hyperparams\n",
    "The second dictionary we use, `hypp`, is initialized in the following cell. It has keys and values containing the hyperparameters necessary to the algorithm.\n",
    "\n",
    "The parameters and hyperparameters in this section are broadly categorized as below:\n",
    "1. Flags for logging: \n",
    "    - They are stored in the `exp` dict. \n",
    "    - This notebook uses tensorboard logging by deafult to log experiment metrics. These tb log files are saved in the directory `logs/<exp.exp_type>/<exp.run_name>/tb`. (to learn about `exp.exp_type` refer point 3. below)\n",
    "    - To enable logging of gym videos of the agent's interaction with the env set `exp.capture_video = True`\n",
    "    - Patch tensorboard logs and gym videos to Weigths & Biases (wandb) by setting `exp.enable_wandb_logging = True`\n",
    "2. Flags and parameters to generate average performance throughout training:\n",
    "    - Stored in the `exp` dict\n",
    "    - If `exp.eval_agent = True`, the performance of the agent during it's training is saved in the corresponding logs folder. You can later used this to compare the performance of your current agent with other agents during their training (in Section 1.5.2).\n",
    "    - Every `exp.eval_frequency` episodes the trained agent is evaluated using the `env_eval` by playing out `exp.eval_count` episodes\n",
    "    - To speed up training set `exp.eval_agent = False` \n",
    "3. Create experiment hierarchy inside log folders:\n",
    "    - if `exp.exp_type` is None, experiment logs are saved to the root log directory `logs`, ie, `/logs/<exp.run_name>`, otherwise they are saved to the directory `logs/<exp.exp_type>/<exp._name>`\n",
    "4. Parameters and hyperparameters related to the algorithm:\n",
    "    - Stored in the `hypp` dict\n",
    "    - Quick reminder:  the `num_steps` key in the `hypp` dict is also a hyperparameter defined in Env & Rollout Buffer Init Section.\n",
    "\n",
    "Note: \n",
    "1. If Weigths and Biases (wandb) logging is enabled, when you run the \"Training The Agent\" cell, enter your wandb's api key when prompted. \n",
    "2. Training takes longer when either gym video recording or agent evaluation during training is enabled. To speed up training set both `exp.capture_video` and `exp.eval_agent` to `False`."
   ]
  },
  {
   "cell_type": "code",
   "execution_count": 13,
   "id": "028dde8a-1e32-4b50-a6b5-f88d22efd8d0",
   "metadata": {
    "deletable": false,
    "nbgrader": {
     "cell_type": "code",
     "checksum": "6866f73990642f1d320a3a113296137a",
     "grade": false,
     "grade_id": "cell-a02e2bc8c5b87d8a",
     "locked": false,
     "schema_version": 3,
     "solution": true,
     "task": false
    },
    "tags": []
   },
   "outputs": [],
   "source": [
    "\n",
    "hypp = edict()\n",
    "\n",
    "# flags for logging purposes\n",
    "exp.enable_wandb_logging = True\n",
    "exp.capture_video = True\n",
    "\n",
    "# flags to generate agent's average performance during training\n",
    "exp.eval_agent = True  # disable to speed up training\n",
    "exp.eval_count = 10\n",
    "exp.eval_frequency = 50\n",
    "\n",
    "# putting the run into the designated log folder for structuring\n",
    "exp.exp_type = None  # directory the run is saved to. Should be None or a string value\n",
    "\n",
    "# agent training specific parameters and hyperparameters\n",
    "hypp.total_timesteps = 1000000  # the training duration in number of time steps\n",
    "hypp.learning_rate = 2e-4  # the learning rate for the optimizer\n",
    "hypp.gamma = 0.99  # decay factor of future rewards\n",
    "hypp.buffer_size = 50000  # the size of the replay memory buffer\n",
    "hypp.target_network_frequency = 500  # the frequency of synchronization with target network\n",
    "hypp.batch_size = 64  # number of samples taken from the replay buffer for one step\n",
    "hypp.start_e = 1  # probability of exploration (epsilon) at timestep 0\n",
    "hypp.end_e = 0.05  # minimal probability of exploration (epsilon)\n",
    "hypp.exploration_fraction = 0.3  # the fraction of total_timesteps it takes to go from start_e to end_e\n",
    "hypp.start_learning = 1000  # the timestep the learning starts (before that the replay buffer is filled)\n",
    "hypp.train_frequency = 10  # the frequency of training"
   ]
  },
  {
   "cell_type": "markdown",
   "id": "d15369a3-1e6d-4dfb-a327-c7481dd2e51e",
   "metadata": {
    "deletable": false,
    "editable": false,
    "nbgrader": {
     "cell_type": "markdown",
     "checksum": "e4a86dccc3c230f5bafd3b3b160acef7",
     "grade": false,
     "grade_id": "cell-6257c6b8c2b0f64e",
     "locked": true,
     "schema_version": 3,
     "solution": false,
     "task": false
    },
    "tags": []
   },
   "source": [
    "### Replay Buffer\n",
    "In the following cell the **replay buffer** is initialised. It is used in 2 ways:\n",
    "- It **stores transitions** the agent took in the environment in the past (i.e. (state, action, next_state, reward, done?) tuples)\n",
    "- It is possible to **sample a batch** of transitions from the replay buffer. The batch is used to perform a gradient step on for training."
   ]
  },
  {
   "cell_type": "code",
   "execution_count": 14,
   "id": "281cc056-fe48-4a5f-b36b-5eb50e659897",
   "metadata": {
    "deletable": false,
    "editable": false,
    "nbgrader": {
     "cell_type": "code",
     "checksum": "a316d78e3014bc12c9280a56b20f82c5",
     "grade": false,
     "grade_id": "cell-2ea95c579a926924",
     "locked": true,
     "schema_version": 3,
     "solution": false,
     "task": false
    },
    "tags": []
   },
   "outputs": [],
   "source": [
    "# Initialization of Replay Buffer\n",
    "\n",
    "env = gym.vector.SyncVectorEnv([hf.make_env(exp.env_id, exp.seed + i) for i in range(1)])\n",
    "\n",
    "rb = ReplayBuffer(\n",
    "    hypp.buffer_size,\n",
    "    env.single_observation_space,\n",
    "    env.single_action_space,\n",
    "    device,\n",
    ")\n",
    "\n",
    "env.close()"
   ]
  },
  {
   "cell_type": "markdown",
   "id": "49d7ba4d-39ea-4e49-bd32-bfacd8c7ee6b",
   "metadata": {
    "deletable": false,
    "editable": false,
    "nbgrader": {
     "cell_type": "markdown",
     "checksum": "70051b0079d6073037ddf9231de6d56c",
     "grade": false,
     "grade_id": "cell-3b088db5e04909e7",
     "locked": true,
     "schema_version": 3,
     "solution": false,
     "task": false
    },
    "tags": []
   },
   "source": [
    "## DQN-specific helper functions (8 Points)\n",
    "\n",
    "In the following cells there are a few functions that are used during the DQN algorithm:\n",
    "1. `linear_schedule` computes the linearly decreasing exploration rate $\\epsilon$ as a function of the timestep $t$\n",
    "2. `compute_TD_target` computes the TD-targets for a given data batch\n",
    "3. `e_greedy_policy` chooses an action according to the $\\epsilon$-greedy policy\n",
    "4. `compute_TD_target_DDQN` computes the TD-targets for a given data batch according to the DDQN formulation\n",
    "\n",
    "\n",
    "Correct the mistakes in the helper functions and implement `compute_TD_target_DDQN`."
   ]
  },
  {
   "cell_type": "code",
   "execution_count": 6,
   "id": "f360bed4-fa13-4e33-90bf-e68b4530a1e9",
   "metadata": {
    "deletable": false,
    "nbgrader": {
     "cell_type": "code",
     "checksum": "03bca7103abe9b0b3c1deda4fe222a9a",
     "grade": false,
     "grade_id": "cell-41a9afe7ea28154b",
     "locked": false,
     "schema_version": 3,
     "solution": true,
     "task": false
    },
    "tags": []
   },
   "outputs": [],
   "source": [
    "def linear_schedule(start_e: float, end_e: float, duration: int, t: int):\n",
    "    '''\n",
    "    returns the linearly decreasing exploration probability epsilon for a certain timestep\n",
    "    :param start_e: exploration probability (epsilon) at timestep 0\n",
    "    :param end_e:  minimal exploration probability (epsilon)\n",
    "    :param duration: number of timesteps after which end_e is reached\n",
    "    :param t: the current timestep\n",
    "    :return: exploration probability (epsilon) for the current timestep\n",
    "    '''\n",
    "    slope = (end_e - start_e) / duration\n",
    "    return max(slope * t + start_e, end_e)"
   ]
  },
  {
   "cell_type": "code",
   "execution_count": 7,
   "id": "3e134659-f80d-4058-9062-f8433c01041d",
   "metadata": {
    "deletable": false,
    "nbgrader": {
     "cell_type": "code",
     "checksum": "04c304a7b2d9f3480a2347c7b4a3bd5a",
     "grade": false,
     "grade_id": "cell-345647811a7761ae",
     "locked": false,
     "schema_version": 3,
     "solution": true,
     "task": false
    },
    "tags": []
   },
   "outputs": [],
   "source": [
    "def compute_TD_target(data, agent):\n",
    "    '''\n",
    "    returns the TD-targets for the given data batch.\n",
    "    :param data: batch of transitions as named tuple of tensors (observations, actions, next_observations, dones, rewards)\n",
    "    :param agent: an Agent class object\n",
    "    :return: TD-targets as tensor with shape [batch_size], where batch_size is the number of entries in data tuple\n",
    "    '''\n",
    "    with torch.no_grad():\n",
    "        target_max, _ = agent.get_q_values(data.next_observations).max(dim=1)\n",
    "        td_target = data.rewards.flatten() + hypp.gamma * target_max * (1 - data.dones.flatten())\n",
    "\n",
    "    return td_target"
   ]
  },
  {
   "cell_type": "code",
   "execution_count": 8,
   "id": "dcb3e4ae-a023-401c-bf84-9e8bc601c464",
   "metadata": {
    "deletable": false,
    "nbgrader": {
     "cell_type": "code",
     "checksum": "7736d9fb2583aa4124e06101efed1223",
     "grade": false,
     "grade_id": "cell-3cf58797202f0453",
     "locked": false,
     "schema_version": 3,
     "solution": true,
     "task": false
    },
    "tags": []
   },
   "outputs": [],
   "source": [
    "def e_greedy_policy(agent, obs, epsilon, env):\n",
    "    '''\n",
    "    returns the action following the epsilon-greedy policy.\n",
    "    :param agent: Agent class object\n",
    "    :param obs: observation of the state\n",
    "    :epsilon: probability to choose a random action\n",
    "    :env: environment agent is acting in\n",
    "    '''\n",
    "    if random.random() < epsilon:\n",
    "        action = np.array([env.single_action_space.sample()])\n",
    "    else:\n",
    "        q_values = agent.get_q_values(torch.Tensor(obs).to(device))\n",
    "        action = torch.argmax(q_values, dim=1).cpu().numpy()\n",
    "\n",
    "    return action"
   ]
  },
  {
   "cell_type": "code",
   "execution_count": 9,
   "id": "168dd438-050f-469f-98f9-bb1c2fa6f757",
   "metadata": {
    "deletable": false,
    "nbgrader": {
     "cell_type": "code",
     "checksum": "27fa7ac1ea745197f7ca569a2d9637b4",
     "grade": false,
     "grade_id": "cell-89d31add908571e6",
     "locked": false,
     "schema_version": 3,
     "solution": true,
     "task": false
    },
    "tags": []
   },
   "outputs": [],
   "source": [
    "def compute_TD_target_DDQN(data, agent):\n",
    "    '''\n",
    "    returns the TD-targets for the given data batch according to the Double-DQN (DDQN) paper.\n",
    "    :param data: batch of transitions as named tuple of tensors (observations, actions, next_observations, dones, rewards)\n",
    "    :param agent: an Agent class object\n",
    "    :return: TD-targets as tensor with shape [batch_size], where batch_size is the number of entries in data tuple\n",
    "    '''\n",
    "    # TODO: Part b)\n",
    "    # with torch.no_grad():\n",
    "    # ...\n",
    "\n",
    "    raise NotImplementedError()"
   ]
  },
  {
   "cell_type": "markdown",
   "id": "869f946a-77c2-425c-bb13-9102a708625c",
   "metadata": {
    "deletable": false,
    "editable": false,
    "nbgrader": {
     "cell_type": "markdown",
     "checksum": "714ff8a14875372e8585317c3c638a9d",
     "grade": false,
     "grade_id": "cell-0228a69605a0d9f6",
     "locked": true,
     "schema_version": 3,
     "solution": false,
     "task": false
    },
    "tags": []
   },
   "source": [
    "## Training the Agent\n",
    "\n",
    "Before we begin training the agent, we first initialize the logging (based on the respective flags in the `exp` dict), the object of the `Agent` class, and the optimizer, followed by an initial set of observations. \n",
    "\n",
    "After that follows the main training loop which consists of:\n",
    "1. **Taking a step in the environment** following the $\\epsilon$-greedy policy, i.e. take random action with probability $\\epsilon$ and optimal action according to the Q-network with probability $1-\\epsilon$.\n",
    "2. **Sampling a batch from the replay buffer** of previously experienced transitions. These are tuples of the form $(s,a,s',r,d)$=(state, action, next_state, reward, done) where done is a boolean indicating whether the environment has terminated after the transition.\n",
    "3. **Calculating the TD-targets** for each transition in the batch. Let $Q_t(s,a)$ denote the Q-value of the target network in state $s$ for action $a$, then the TD-target $T_i$ for transition $i$ of the batch is:  \n",
    "\n",
    "$$T_i =\n",
    "\\begin{cases}\n",
    "r_i + \\max_{a'}Q_t(s'_i,a') &, \\text{if } d_i = 0\\\\\n",
    "r_i &, \\text{else}\n",
    "\\end{cases}$$  \n",
    "\n",
    "4. **Setting up the loss function** as a mean squared error (MSE) between Q-values and TD-targets. Let $Q_{\\theta}(s,a)$ be the Q-value of the (parametrized) Q-network for state $s$ and action $a$, then the loss $L$ is:  \n",
    "\n",
    "$$L = \\frac{1}{n}\\sum_{i=1}^{n}(Q_{\\theta}(s_i,a_i) - T_i)^2$$\n",
    "5. **Performing gradient descent** with regard to the gradient $\\frac{\\delta}{\\delta\\theta}{L}$\n",
    "\n",
    "Note that steps 2-4 are not performed in every iteration of the main loop:\n",
    "- before actual training starts the algorithm runs a \"warm-up\" phase where it begins to fill the replay buffer (see `hypp.start_learning`)\n",
    "- training happens periodically every few steps (see `hypp.train_frequency`)\n",
    "\n",
    "Also periodically, the target network and the Q-network are synchronized. (see `hypp.target_network_frequency`)\n",
    "\n",
    "Post completion of the main training loop, we save a copy of the following in the directory `logs/<exp.exp_type>/<exp.run_name>`:\n",
    "1. `exp` and `hypp` dicts into a `.config` file \n",
    "2. `agent` (instance of `Agent` class) into a `.pt` file for later evaluation\n",
    "3. agent performance progress throughout training into a `.csv` file if `exp.eval_agent=True`\n",
    "\n",
    "Note: we have two vectorised gym environments, `env` and `env_eval` in the initalizations. `env` is used to fill the rollout buffer with trajectories and `env_eval` is used to evaluate the agent performance at different stages of training."
   ]
  },
  {
   "cell_type": "code",
   "execution_count": 15,
   "id": "c845136f-50af-4272-8443-a04f150469c7",
   "metadata": {
    "deletable": false,
    "editable": false,
    "nbgrader": {
     "cell_type": "code",
     "checksum": "146b225d7e66a6f8505daa5421ebd3fc",
     "grade": true,
     "grade_id": "cell-fad3e79477f4eb31",
     "locked": true,
     "points": 0,
     "schema_version": 3,
     "solution": false,
     "task": false
    },
    "tags": []
   },
   "outputs": [],
   "source": [
    "# Used for grading. Do not change.\n",
    "_grading_mode = False"
   ]
  },
  {
   "cell_type": "markdown",
   "id": "e114ca3f-1f37-4836-96cd-36077a90516e",
   "metadata": {
    "deletable": false,
    "editable": false,
    "nbgrader": {
     "cell_type": "markdown",
     "checksum": "1802f8cc86c83935d8d92ef2bb2eff4e",
     "grade": false,
     "grade_id": "cell-c4feff206050350d",
     "locked": true,
     "schema_version": 3,
     "solution": false,
     "task": false
    },
    "tags": []
   },
   "source": [
    "### Training Loop\n",
    "Find the mistake in the training code in the parts you are allowed to edit."
   ]
  },
  {
   "cell_type": "code",
   "execution_count": 27,
   "id": "6b5677bd-2ddd-4195-8873-e7a356e469ae",
   "metadata": {
    "deletable": false,
    "nbgrader": {
     "cell_type": "code",
     "checksum": "5aef5d04cc83cd6ff72f173232b46219",
     "grade": false,
     "grade_id": "cell-45e61a9db12b18a9",
     "locked": false,
     "schema_version": 3,
     "solution": true,
     "task": false
    },
    "tags": []
   },
   "outputs": [
    {
     "data": {
      "text/html": [
       "creating run (1.0s)"
      ],
      "text/plain": [
       "<IPython.core.display.HTML object>"
      ]
     },
     "metadata": {},
     "output_type": "display_data"
    },
    {
     "data": {
      "text/html": [
       "Tracking run with wandb version 0.19.10"
      ],
      "text/plain": [
       "<IPython.core.display.HTML object>"
      ]
     },
     "metadata": {},
     "output_type": "display_data"
    },
    {
     "data": {
      "text/html": [
       "Run data is saved locally in <code>C:\\Repositories\\rwth-rl\\Assignment_2\\task_dqn\\logs\\wandb\\run-20250619_201811-m9qx5agq</code>"
      ],
      "text/plain": [
       "<IPython.core.display.HTML object>"
      ]
     },
     "metadata": {},
     "output_type": "display_data"
    },
    {
     "data": {
      "text/html": [
       "Syncing run <strong><a href='https://wandb.ai/mthiede-tu-dresden/RLLBC_CartPole-v1/runs/m9qx5agq' target=\"_blank\">CartPole-v1__DQN__2__250619_201811</a></strong> to <a href='https://wandb.ai/mthiede-tu-dresden/RLLBC_CartPole-v1' target=\"_blank\">Weights & Biases</a> (<a href='https://wandb.me/developer-guide' target=\"_blank\">docs</a>)<br>"
      ],
      "text/plain": [
       "<IPython.core.display.HTML object>"
      ]
     },
     "metadata": {},
     "output_type": "display_data"
    },
    {
     "data": {
      "text/html": [
       " View project at <a href='https://wandb.ai/mthiede-tu-dresden/RLLBC_CartPole-v1' target=\"_blank\">https://wandb.ai/mthiede-tu-dresden/RLLBC_CartPole-v1</a>"
      ],
      "text/plain": [
       "<IPython.core.display.HTML object>"
      ]
     },
     "metadata": {},
     "output_type": "display_data"
    },
    {
     "data": {
      "text/html": [
       " View run at <a href='https://wandb.ai/mthiede-tu-dresden/RLLBC_CartPole-v1/runs/m9qx5agq' target=\"_blank\">https://wandb.ai/mthiede-tu-dresden/RLLBC_CartPole-v1/runs/m9qx5agq</a>"
      ],
      "text/plain": [
       "<IPython.core.display.HTML object>"
      ]
     },
     "metadata": {},
     "output_type": "display_data"
    },
    {
     "name": "stderr",
     "output_type": "stream",
     "text": [
      "\u001b[34m\u001b[1mwandb\u001b[0m: \u001b[33mWARNING\u001b[0m When using several event log directories, please call `wandb.tensorboard.patch(root_logdir=\"...\")` before `wandb.init`\n"
     ]
    },
    {
     "data": {
      "application/vnd.jupyter.widget-view+json": {
       "model_id": "eaa758d516274af59a736f12e273589d",
       "version_major": 2,
       "version_minor": 0
      },
      "text/plain": [
       "  0%|          | 0/1000000 [00:00<?, ?it/s]"
      ]
     },
     "metadata": {},
     "output_type": "display_data"
    },
    {
     "data": {
      "text/html": [],
      "text/plain": [
       "<IPython.core.display.HTML object>"
      ]
     },
     "metadata": {},
     "output_type": "display_data"
    },
    {
     "data": {
      "text/html": [
       "<br>    <style><br>        .wandb-row {<br>            display: flex;<br>            flex-direction: row;<br>            flex-wrap: wrap;<br>            justify-content: flex-start;<br>            width: 100%;<br>        }<br>        .wandb-col {<br>            display: flex;<br>            flex-direction: column;<br>            flex-basis: 100%;<br>            flex: 1;<br>            padding: 10px;<br>        }<br>    </style><br><div class=\"wandb-row\"><div class=\"wandb-col\"><h3>Run history:</h3><br/><table class=\"wandb\"><tr><td>Charts/episode_step</td><td>▁▁▁▂▂▃▃▃▃▄▅▅▅▆▆▇▇▇▇▇▇▇▇▇▇▇▇▇▇▇▇█████████</td></tr><tr><td>Charts/gradient_step</td><td>▁▁▁▁▁▂▂▂▂▂▂▂▂▂▂▂▂▂▃▃▃▃▄▄▄▅▅▅▆▆▆▆▆▇▇▇▇███</td></tr><tr><td>global_step</td><td>▁▁▁▁▁▁▁▁▂▂▂▂▂▂▂▂▂▂▂▃▃▃▃▄▄▄▄▄▄▅▅▆▆▆▆▇▇▇▇█</td></tr><tr><td>hyperparameters/epsilon</td><td>█████▇▇▇▇▇▇▇▇▇▇▇▇▇▇▇▆▆▆▆▆▆▅▅▅▅▄▃▂▂▁▁▁▁▁▁</td></tr><tr><td>others/SPS</td><td>▃▃▃▄▅▂▂▁▁▁▁▂▂▂▃▃▃▄▄▄▅▅▅▅▆▆▆▇▇▇▇▇▇▇▇█████</td></tr><tr><td>rollout/episodic_length</td><td>▁▁▁▁▁▁▁▁▁▁▁▁▂▁▁▂▂▁▁▂▁▁▁▁▁▁▂▂▂▂▄█▅▇██████</td></tr><tr><td>rollout/episodic_return</td><td>▁▁▁▁▁▁▁▁▁▁▁▁▁▁▂▁▁▁▁▂▁▁▁▁▂▁▁▁▂▂▂█████████</td></tr><tr><td>train/q_values</td><td>▁▁▁▁▃▄▇█▇▇▅▆▅▅▆▆▆▆▇▆▇▇▇▇▇██▇█▇█▇▇▇▆▇▇▇▇▇</td></tr><tr><td>train/td_loss</td><td>▂▁▁▂█▂▁▄▁▁▁▁▁▅▃▂▂▃▁▁▁▁█▁▁▁▁▁▃▁▁▃▁▁▁▁▁▁▁▁</td></tr></table><br/></div><div class=\"wandb-col\"><h3>Run summary:</h3><br/><table class=\"wandb\"><tr><td>Charts/episode_step</td><td>8468</td></tr><tr><td>Charts/gradient_step</td><td>99899</td></tr><tr><td>global_step</td><td>1000000</td></tr><tr><td>hyperparameters/epsilon</td><td>0.05</td></tr><tr><td>others/SPS</td><td>992</td></tr><tr><td>rollout/episodic_length</td><td>500</td></tr><tr><td>rollout/episodic_return</td><td>500</td></tr><tr><td>train/q_values</td><td>187.1847</td></tr><tr><td>train/td_loss</td><td>491.24734</td></tr></table><br/></div></div>"
      ],
      "text/plain": [
       "<IPython.core.display.HTML object>"
      ]
     },
     "metadata": {},
     "output_type": "display_data"
    },
    {
     "data": {
      "text/html": [
       " View run <strong style=\"color:#cdcd00\">CartPole-v1__DQN__2__250619_201811</strong> at: <a href='https://wandb.ai/mthiede-tu-dresden/RLLBC_CartPole-v1/runs/m9qx5agq' target=\"_blank\">https://wandb.ai/mthiede-tu-dresden/RLLBC_CartPole-v1/runs/m9qx5agq</a><br> View project at: <a href='https://wandb.ai/mthiede-tu-dresden/RLLBC_CartPole-v1' target=\"_blank\">https://wandb.ai/mthiede-tu-dresden/RLLBC_CartPole-v1</a><br>Synced 5 W&B file(s), 22 media file(s), 0 artifact file(s) and 0 other file(s)"
      ],
      "text/plain": [
       "<IPython.core.display.HTML object>"
      ]
     },
     "metadata": {},
     "output_type": "display_data"
    },
    {
     "data": {
      "text/html": [
       "Find logs at: <code>.\\logs\\wandb\\run-20250619_201811-m9qx5agq\\logs</code>"
      ],
      "text/plain": [
       "<IPython.core.display.HTML object>"
      ]
     },
     "metadata": {},
     "output_type": "display_data"
    }
   ],
   "source": [
    "def train():\n",
    "    # ------------------ RUN INIT - DO NOT EDIT ---------------------- #\n",
    "    if _grading_mode: #DO NOT EDIT\n",
    "        return #DO NOT EDIT\n",
    "    # reinit run_name\n",
    "    exp.run_name = f\"{exp.env_id}__{exp.exp_name}__{exp.seed}__{datetime.now().strftime('%y%m%d_%H%M%S')}\"\n",
    "\n",
    "    # Init tensorboard logging and wandb logging\n",
    "    writer = hf.setup_logging(wandb_prj_name, exp, hypp)\n",
    "\n",
    "    # create two vectorized envs: one to fill the rollout buffer with trajectories and\n",
    "    # another one to evaluate the agent performance at different stages of training\n",
    "    env = gym.vector.SyncVectorEnv([hf.make_env(exp.env_id, exp.seed)])\n",
    "    env_eval = gym.vector.SyncVectorEnv([hf.make_env(exp.env_id, exp.seed + i) for i in range(1)])\n",
    "\n",
    "    # init list to track agent's performance throughout training\n",
    "    tracked_returns_over_training = []\n",
    "    tracked_episode_len_over_training = []\n",
    "    tracked_episode_count = []\n",
    "    last_evaluated_episode = None  # stores the episode_step of when the agent's performance was last evaluated\n",
    "    eval_max_return = -float('inf')\n",
    "\n",
    "    # Create Agent class Instance and network optimizer\n",
    "    agent = Agent(env).to(device)\n",
    "    optimizer = optim.Adam(agent.q_network.parameters(), lr=hypp.learning_rate)\n",
    "\n",
    "    global_step = 0\n",
    "    episode_step = 0\n",
    "    gradient_step = 0\n",
    "\n",
    "    # Init observation to start learning\n",
    "    start_time = time.time()\n",
    "    obs = env.reset()\n",
    "\n",
    "    pbar = notebook.tqdm(range(1, hypp.total_timesteps + 1))\n",
    "    # ------------------------- END RUN INIT --------------------------- #\n",
    "\n",
    "    # training loop\n",
    "    for update in pbar:\n",
    "\n",
    "        epsilon = linear_schedule(hypp.start_e, hypp.end_e, hypp.exploration_fraction * hypp.total_timesteps, global_step)\n",
    "        action = e_greedy_policy(agent, obs, epsilon, env)\n",
    "\n",
    "        # apply action to environment\n",
    "        next_obs, reward, done, infos = env.step(action)\n",
    "        global_step += 1\n",
    "\n",
    "        # log episode return and length to tensorboard as well as current epsilon\n",
    "        for info in infos:\n",
    "            if \"episode\" in info.keys():\n",
    "                episode_step += 1\n",
    "                pbar.set_description(f\"global_step: {global_step}, episodic_return={info['episode']['r']}\")\n",
    "                writer.add_scalar(\"rollout/episodic_return\", info[\"episode\"][\"r\"], global_step)\n",
    "                writer.add_scalar(\"rollout/episodic_length\", info[\"episode\"][\"l\"], global_step)\n",
    "                writer.add_scalar(\"hyperparameters/epsilon\", epsilon, global_step)\n",
    "                writer.add_scalar(\"Charts/episode_step\", episode_step, global_step)\n",
    "                writer.add_scalar(\"Charts/gradient_step\", gradient_step, global_step)\n",
    "                break\n",
    "        # ------------------ EVALUATION: DO NOT EDIT ---------------------- #\n",
    "        # evaluation of the agent\n",
    "        if exp.eval_agent and (episode_step % exp.eval_frequency == 0) and last_evaluated_episode != episode_step:\n",
    "            last_evaluated_episode = episode_step\n",
    "            tracked_return, tracked_episode_len = hf.evaluate_agent(env_eval, agent, exp.eval_count,\n",
    "                                                                    exp.seed, greedy_actor=True)\n",
    "            tracked_returns_over_training.append(tracked_return)\n",
    "            tracked_episode_len_over_training.append(tracked_episode_len)\n",
    "            tracked_episode_count.append([episode_step, global_step])\n",
    "\n",
    "            # if there has been improvement of the model - save model, create video, log video to wandb\n",
    "            if np.mean(tracked_return) > eval_max_return:\n",
    "                eval_max_return = np.mean(tracked_return)\n",
    "                # call helper function save_and_log_agent to save model, create video, log video to wandb\n",
    "                hf.save_and_log_agent(exp, agent, episode_step,\n",
    "                                      greedy=True, print_path=False)\n",
    "        # ----------------------- END EVALUATION ------------------------- #\n",
    "        # handling the terminal observation (vectorized env would skip terminal state)\n",
    "        real_next_obs = next_obs.copy()\n",
    "        for idx, d in enumerate(done):\n",
    "            if d:\n",
    "                real_next_obs[idx] = infos[idx][\"terminal_observation\"]\n",
    "\n",
    "        # add data to replay buffer\n",
    "        rb.add(obs, real_next_obs, action, reward, done, infos)\n",
    "\n",
    "        # update obs\n",
    "        obs = next_obs\n",
    "\n",
    "        # training of the agent\n",
    "        if global_step > hypp.start_learning:\n",
    "            if global_step % hypp.train_frequency == 0:\n",
    "                data = rb.sample(hypp.batch_size)\n",
    "                #Change to DDQN if implemented\n",
    "                #td_target = compute_TD_target_DDQN(data, agent)\n",
    "                td_target = compute_TD_target(data, agent)\n",
    "\n",
    "                # calculate MSE loss between target and value\n",
    "                old_val = agent.get_q_values(data.observations).gather(1, data.actions).squeeze()\n",
    "\n",
    "                loss = ((td_target - old_val).pow(2)).mean()\n",
    "\n",
    "                # log td_loss and q_values to tensorboard\n",
    "                if global_step % 100 == 0:\n",
    "                    writer.add_scalar(\"train/td_loss\", loss, global_step)\n",
    "                    writer.add_scalar(\"train/q_values\", old_val.mean().item(), global_step)\n",
    "                    writer.add_scalar(\"others/SPS\", int(global_step / (time.time() - start_time)), global_step)\n",
    "                    writer.add_scalar(\"Charts/episode_step\", episode_step, global_step)\n",
    "                    writer.add_scalar(\"Charts/gradient_step\", gradient_step, global_step)\n",
    "\n",
    "                # optimize the model\n",
    "                optimizer.zero_grad()\n",
    "                loss.backward()\n",
    "                optimizer.step()\n",
    "                gradient_step += 1\n",
    "\n",
    "            # update the target network\n",
    "            if global_step % hypp.target_network_frequency == 0:\n",
    "                agent.synchronize_networks()\n",
    "\n",
    "\n",
    "    # ------------------ EVALUATION: DO NOT EDIT ---------------------- #\n",
    "    # one last evaluation stage\n",
    "    if exp.eval_agent:\n",
    "        tracked_return, tracked_episode_len = hf.evaluate_agent(env_eval, agent, exp.eval_count, exp.seed, greedy_actor = True)\n",
    "        tracked_returns_over_training.append(tracked_return)\n",
    "        tracked_episode_len_over_training.append(tracked_episode_len)\n",
    "        tracked_episode_count.append([episode_step, global_step])\n",
    "\n",
    "        # if there has been improvement of the model - save model, create video, log video to wandb\n",
    "        if np.mean(tracked_return) > eval_max_return:\n",
    "            eval_max_return = np.mean(tracked_return)\n",
    "            # call helper function save_and_log_agent to save model, create video, log video to wandb\n",
    "            hf.save_and_log_agent(exp, agent, episode_step,\n",
    "                                  greedy=True, print_path=False)\n",
    "\n",
    "        hf.save_tracked_values(tracked_returns_over_training, tracked_episode_len_over_training, tracked_episode_count, exp.eval_count, exp.run_name)    \n",
    "    # ----------------------- END EVALUATION ------------------------- #\n",
    "\n",
    "    # ---------------- CLEANING UP/SAVING - DO NOT EDIT -------------- #\n",
    "    env.close()\n",
    "    writer.close()\n",
    "    pbar.close()\n",
    "    if wandb.run is not None:\n",
    "        wandb.finish(quiet=True)\n",
    "        wandb.init(mode= 'disabled')\n",
    "\n",
    "    hf.save_train_config_to_yaml(exp, hypp)\n",
    "    # ------------------- END CLEANING UP/SAVING --------------------- #\n",
    "train()"
   ]
  },
  {
   "cell_type": "markdown",
   "id": "d345740c-dd55-494f-ab91-2e0921728cc2",
   "metadata": {
    "deletable": false,
    "editable": false,
    "nbgrader": {
     "cell_type": "markdown",
     "checksum": "c40291d2abded2bf67813abaf681760c",
     "grade": false,
     "grade_id": "cell-8e1d3fc4092610a4",
     "locked": true,
     "schema_version": 3,
     "solution": false,
     "task": false
    },
    "tags": []
   },
   "source": [
    "# Your Final Agent (2 Points)"
   ]
  },
  {
   "cell_type": "markdown",
   "id": "2ea525c2-81c8-476a-8dac-923e2b5f9a10",
   "metadata": {
    "deletable": false,
    "editable": false,
    "nbgrader": {
     "cell_type": "markdown",
     "checksum": "702e8763217082de99cfd4c63fd80936",
     "grade": false,
     "grade_id": "cell-c7f5cbdf6841fba0",
     "locked": true,
     "schema_version": 3,
     "solution": false,
     "task": false
    },
    "tags": []
   },
   "source": [
    "We assume that the agent you want to submit is stored at `logs/<agent_name_final>/agent_model.pt`.\n",
    "Please write down the name of the final agent you wish to submit.\n",
    "If the agent file is not located at this path, you will not receive points for the performance of your agent—only for the mistakes you have fixed."
   ]
  },
  {
   "cell_type": "code",
   "execution_count": 21,
   "id": "aeb5f544-3af1-4956-9f36-c240b1882786",
   "metadata": {
    "deletable": false,
    "nbgrader": {
     "cell_type": "code",
     "checksum": "4113e24936c9e15bb96624639edf47a3",
     "grade": false,
     "grade_id": "cell-9cba1cae207ec65b",
     "locked": false,
     "schema_version": 3,
     "solution": true,
     "task": false
    },
    "tags": []
   },
   "outputs": [
    {
     "name": "stdout",
     "output_type": "stream",
     "text": [
      "Your final submitted return: 500.0\n"
     ]
    }
   ],
   "source": [
    "agent_name_final = \"CartPole-v1__DQN__2__250619_201811\" #Change this to the name of the final agent you want to submit\n",
    "agent_final = hf.load_model(run_name=agent_name_final)\n",
    "env_eval = gym.vector.SyncVectorEnv([hf.make_env(exp.env_id, exp.seed + i) for i in range(1)])\n",
    "tracked_return, tracked_episode_len = hf.evaluate_agent(env_eval, agent_final, 10, exp.seed, greedy_actor = True)\n",
    "mean_reward = np.mean(tracked_return)\n",
    "print(f\"Your final submitted return: {mean_reward}\")"
   ]
  },
  {
   "cell_type": "code",
   "execution_count": 13,
   "id": "6a89c7a6-7896-4cc8-90cb-92217c4170d9",
   "metadata": {
    "deletable": false,
    "editable": false,
    "nbgrader": {
     "cell_type": "code",
     "checksum": "d8a6dc705e0b5ab5af657d5bcd09e8a5",
     "grade": true,
     "grade_id": "cell-89ad9b819479ac6a",
     "locked": true,
     "points": 1,
     "schema_version": 3,
     "solution": false,
     "task": false
    },
    "tags": []
   },
   "outputs": [],
   "source": [
    "# Used for grading. Do not change."
   ]
  },
  {
   "cell_type": "code",
   "execution_count": 14,
   "id": "463f85e3-f252-4d48-b853-296bd0135759",
   "metadata": {
    "deletable": false,
    "editable": false,
    "nbgrader": {
     "cell_type": "code",
     "checksum": "7946cb4f506bd30fb459b337fdff82a2",
     "grade": true,
     "grade_id": "cell-1fb441c16e7116d9",
     "locked": true,
     "points": 1,
     "schema_version": 3,
     "solution": false,
     "task": false
    },
    "tags": []
   },
   "outputs": [],
   "source": [
    "# Used for grading. Do not change."
   ]
  },
  {
   "cell_type": "markdown",
   "id": "f91f6290-99a7-4cff-8cfd-2810e1b4b876",
   "metadata": {
    "deletable": false,
    "editable": false,
    "nbgrader": {
     "cell_type": "markdown",
     "checksum": "ebe7eb5c84f06352acb58fbd7a50d947",
     "grade": false,
     "grade_id": "cell-8d19bbb12f473938",
     "locked": true,
     "schema_version": 3,
     "solution": false,
     "task": false
    },
    "tags": []
   },
   "source": [
    "## Compare Trained Agents and Display Behaviour"
   ]
  },
  {
   "cell_type": "markdown",
   "id": "41a1cbd9-ee5e-44e7-b155-62beb27e7cfc",
   "metadata": {
    "deletable": false,
    "editable": false,
    "nbgrader": {
     "cell_type": "markdown",
     "checksum": "61ca981444028c685a6f4715ec8888d0",
     "grade": false,
     "grade_id": "cell-afb8e6dab7009e44",
     "locked": true,
     "schema_version": 3,
     "solution": false,
     "task": false
    },
    "tags": []
   },
   "source": [
    "### Display Trained Agent Behaviour\n",
    "\n",
    "Set `agent_name` and `agent_exp_type` to load the saved agent model in the respective log folder and generate a video of the agent's interaction with the gym environment. After the cell is executed, you should see a video embedding as output, and the video is also available in the following directory: `/logs/<exp.exp_type>/<exp.run_name>/videos` "
   ]
  },
  {
   "cell_type": "code",
   "execution_count": 23,
   "id": "6d9be00b-1126-41de-bce8-e217ddd76572",
   "metadata": {
    "deletable": false,
    "nbgrader": {
     "cell_type": "code",
     "checksum": "cc70c943a32d8ee85ee08136ddd1669a",
     "grade": false,
     "grade_id": "cell-d72e8e47a49ad03c",
     "locked": false,
     "schema_version": 3,
     "solution": true,
     "task": false
    },
    "tags": []
   },
   "outputs": [
    {
     "data": {
      "text/html": [
       "<video loop autoplay  >\n",
       " <source src=\"data:video/mp4;base64,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\" type=\"video/mp4\">\n",
       " Your browser does not support the video tag.\n",
       " </video>"
      ],
      "text/plain": [
       "<IPython.core.display.Video object>"
      ]
     },
     "metadata": {},
     "output_type": "display_data"
    }
   ],
   "source": [
    "if not _grading_mode: #DO NOT EDIT\n",
    "    #-------------From here you can edit-------------\n",
    "    agent_name = agent_name_final\n",
    "    agent_exp_type = exp.exp_type  # both are needed to identify the agent location\n",
    "\n",
    "\n",
    "    exp_folder = \"\" if agent_exp_type is None else agent_exp_type\n",
    "    filepath, _ = hf.create_folder_relative(f\"{exp_folder}/{agent_name}/videos\")\n",
    "\n",
    "    hf.record_video(exp.env_id, agent_name, f\"{filepath}/best.mp4\", exp_type=agent_exp_type, greedy=True)\n",
    "    display(Video(data=f\"{filepath}/best.mp4\", html_attributes='loop autoplay', embed=True))"
   ]
  },
  {
   "cell_type": "markdown",
   "id": "3df28e41-209f-4e09-a012-f34419d35f95",
   "metadata": {
    "deletable": false,
    "editable": false,
    "nbgrader": {
     "cell_type": "markdown",
     "checksum": "37cb50d4e635667d2a1bd1a75ec22364",
     "grade": false,
     "grade_id": "cell-ab4b90b0e7b6f5b2",
     "locked": true,
     "schema_version": 3,
     "solution": false,
     "task": false
    },
    "tags": []
   },
   "source": [
    "### Compare Performance of Agents During Training\n",
    "\n",
    "During the training loop, if `exp.eval_agent = True`, the performance progress of the agent during its training is saved as a csv file. To compare the saved progress of different agents, create a `dict` containing the parent folder's name of each of the csv files and use the helper function `plotter_agents_training_stats`.\n",
    "\n",
    "To load the data, you can either set `eval_params.run_name00 = exp.run_name` (if only a `tracked_performance_training.csv` file for the corresponding `exp.run_name` exists) or manually enter the folder name containing the csv file. \n",
    "\n",
    "If the agent performance you want to load is inside an exp_type folder, set `eval_params.exp_type00` to experiment type, and if not, set it to `None`. \n",
    "\n",
    "You can add more than one experiment by initializing dict keys and values of the format `eval_params.run_namexx` and `eval_params.exp_typexx`."
   ]
  },
  {
   "cell_type": "code",
   "execution_count": 20,
   "id": "7f19d07a-c44a-4808-b8c9-6ed70d62d840",
   "metadata": {
    "deletable": false,
    "nbgrader": {
     "cell_type": "code",
     "checksum": "0e3f46a611cbac6f9cc83cc30c881927",
     "grade": false,
     "grade_id": "cell-a68c66988fe6e982",
     "locked": false,
     "schema_version": 3,
     "solution": true,
     "task": false
    },
    "tags": []
   },
   "outputs": [
    {
     "data": {
      "image/png": "[encoded data removed]",
      "text/plain": [
       "<Figure size 1400x300 with 2 Axes>"
      ]
     },
     "metadata": {},
     "output_type": "display_data"
    }
   ],
   "source": [
    "if not _grading_mode: #DO NOT EDIT\n",
    "    #-------------From here you can edit-------------\n",
    "    eval_params = edict()  # eval_params - evaluation settings for trained agent\n",
    "\n",
    "    eval_params.run_name00 = exp.run_name\n",
    "    eval_params.exp_type00 = exp.exp_type\n",
    "\n",
    "    agent_labels = []\n",
    "\n",
    "    episode_axis_limit = None\n",
    "\n",
    "    hf.plotter_agents_training_stats(eval_params, agent_labels, episode_axis_limit, plot_returns=True, plot_episode_len=True)"
   ]
  },
  {
   "cell_type": "markdown",
   "id": "b3c375c3-dfd9-4269-92fb-7cf566d76530",
   "metadata": {
    "deletable": false,
    "editable": false,
    "nbgrader": {
     "cell_type": "markdown",
     "checksum": "a2984d095d6727b595726792210b66cc",
     "grade": false,
     "grade_id": "cell-772db46094a57e8d",
     "locked": true,
     "schema_version": 3,
     "solution": false,
     "task": false
    },
    "tags": []
   },
   "source": [
    "## TensorBoard Inline"
   ]
  },
  {
   "cell_type": "code",
   "execution_count": 17,
   "id": "9d890e4c-b681-4cd7-bdbd-8a27971588a8",
   "metadata": {
    "deletable": false,
    "editable": false,
    "nbgrader": {
     "cell_type": "code",
     "checksum": "537d0ae4d257e7e991ab355f01bdafc1",
     "grade": false,
     "grade_id": "cell-76b96085fb0be515",
     "locked": true,
     "schema_version": 3,
     "solution": false,
     "task": false
    },
    "tags": []
   },
   "outputs": [
    {
     "data": {
      "text/html": [
       "\n",
       "      <iframe id=\"tensorboard-frame-7787fc305dc064a5\" width=\"100%\" height=\"800\" frameborder=\"0\">\n",
       "      </iframe>\n",
       "      <script>\n",
       "        (function() {\n",
       "          const frame = document.getElementById(\"tensorboard-frame-7787fc305dc064a5\");\n",
       "          const url = new URL(\"/\", window.location);\n",
       "          const port = 6006;\n",
       "          if (port) {\n",
       "            url.port = port;\n",
       "          }\n",
       "          frame.src = url;\n",
       "        })();\n",
       "      </script>\n",
       "    "
      ],
      "text/plain": [
       "<IPython.core.display.HTML object>"
      ]
     },
     "metadata": {},
     "output_type": "display_data"
    }
   ],
   "source": [
    "if not _grading_mode: #DO NOT EDIT\n",
    "    #-------------From here you can edit-------------\n",
    "    %load_ext tensorboard\n",
    "    %tensorboard --logdir logs --host localhost"
   ]
  },
  {
   "cell_type": "code",
   "execution_count": 18,
   "id": "6e67ec2b-4906-48b0-a296-08921d45953b",
   "metadata": {
    "deletable": false,
    "editable": false,
    "nbgrader": {
     "cell_type": "code",
     "checksum": "a52dabbe4dac33879c5c13ae4adca302",
     "grade": true,
     "grade_id": "cell-95326a8619429c86",
     "locked": true,
     "points": 2,
     "schema_version": 3,
     "solution": false,
     "task": false
    },
    "tags": []
   },
   "outputs": [],
   "source": [
    "# Used for grading. Do not change."
   ]
  },
  {
   "cell_type": "code",
   "execution_count": 19,
   "id": "c72f8dbd-c8d6-4390-88ea-d5fe7f68c73a",
   "metadata": {
    "deletable": false,
    "editable": false,
    "nbgrader": {
     "cell_type": "code",
     "checksum": "b04201fbc6a91cfc58b7d6cdce72ee07",
     "grade": true,
     "grade_id": "cell-099f9b2c2c6894d1",
     "locked": true,
     "points": 2,
     "schema_version": 3,
     "solution": false,
     "task": false
    },
    "tags": []
   },
   "outputs": [],
   "source": [
    "# Used for grading. Do not change."
   ]
  },
  {
   "cell_type": "code",
   "execution_count": 20,
   "id": "03900562-32e4-485a-9f8f-9fcee507744b",
   "metadata": {
    "deletable": false,
    "editable": false,
    "nbgrader": {
     "cell_type": "code",
     "checksum": "0767bdc3311ceaa1e7fed64f68802fb4",
     "grade": true,
     "grade_id": "cell-009bf687c08160a0",
     "locked": true,
     "points": 2,
     "schema_version": 3,
     "solution": false,
     "task": false
    },
    "tags": []
   },
   "outputs": [],
   "source": [
    "# Used for grading. Do not change."
   ]
  },
  {
   "cell_type": "code",
   "execution_count": 21,
   "id": "29f57cac-0826-418c-9cb9-ae5f4a80404b",
   "metadata": {
    "deletable": false,
    "editable": false,
    "nbgrader": {
     "cell_type": "code",
     "checksum": "276a5a7d4c41eb87f2b51e6d92c5f47f",
     "grade": true,
     "grade_id": "cell-f5c757049f19f32e",
     "locked": true,
     "points": 2,
     "schema_version": 3,
     "solution": false,
     "task": false
    },
    "tags": []
   },
   "outputs": [],
   "source": [
    "# Used for grading. Do not change."
   ]
  }
 ],
 "metadata": {
  "kernelspec": {
   "display_name": "Python 3 (ipykernel)",
   "language": "python",
   "name": "python3"
  },
  "language_info": {
   "codemirror_mode": {
    "name": "ipython",
    "version": 3
   },
   "file_extension": ".py",
   "mimetype": "text/x-python",
   "name": "python",
   "nbconvert_exporter": "python",
   "pygments_lexer": "ipython3",
   "version": "3.11.11"
  }
 },
 "nbformat": 4,
 "nbformat_minor": 5
}
